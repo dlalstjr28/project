{
 "cells": [
  {
   "cell_type": "code",
   "execution_count": null,
   "metadata": {},
   "outputs": [],
   "source": [
    "def appendlist(a,b):\n",
    "    list1 = list(a)\n",
    "    list2 = list(b)\n",
    "    for i in list2:\n",
    "        if b not in list1:\n",
    "            a.append(b)\n",
    "    return a"
   ]
  },
  {
   "cell_type": "code",
   "execution_count": null,
   "metadata": {},
   "outputs": [],
   "source": [
    "def value_normalize(df,column):\n",
    "    s = df['전년도 누적금액']\n",
    "    s = s[((s-s.mean())/s.std()>3) | ((s-s.mean())/s.std()<-3)]\n",
    "    df = df[~df['전년도 누적금액'].isin(s)]\n",
    "    return df    "
   ]
  },
  {
   "cell_type": "code",
   "execution_count": null,
   "metadata": {},
   "outputs": [],
   "source": [
    "def object_normalize(df,column):\n",
    "    s = pd.Series(df[column]).value_counts()\n",
    "    s = (s-s.mean())/s.std()\n",
    "    l_overvalue =s[s<-3].index\n",
    "    result = l_overvalue\n",
    "    print(result)\n",
    "    for i in result:\n",
    "        df= df.loc[df[column]!=i]\n",
    "    return df"
   ]
  }
 ],
 "metadata": {
  "kernelspec": {
   "display_name": "Python 3",
   "language": "python",
   "name": "python3"
  },
  "language_info": {
   "codemirror_mode": {
    "name": "ipython",
    "version": 3
   },
   "file_extension": ".py",
   "mimetype": "text/x-python",
   "name": "python",
   "nbconvert_exporter": "python",
   "pygments_lexer": "ipython3",
   "version": "3.8.3"
  }
 },
 "nbformat": 4,
 "nbformat_minor": 4
}
