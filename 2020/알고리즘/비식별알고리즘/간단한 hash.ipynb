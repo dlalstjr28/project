{
 "cells": [
  {
   "cell_type": "code",
   "execution_count": 17,
   "metadata": {},
   "outputs": [],
   "source": [
    "import hashlib\n",
    "import random"
   ]
  },
  {
   "cell_type": "code",
   "execution_count": 18,
   "metadata": {},
   "outputs": [],
   "source": [
    "def randName():\n",
    "  text = \"\"\n",
    "  first = \"김이박최정강조윤장임한오서신권황안송류전홍고문양손배조백허유남심노정하곽성차주우구신임나전민유진지엄채원천방공강현함변염양변여추노도소신석선설마주연방위표명기반왕모장남탁국여진구\"\n",
    "  last = \"가강건경고관광구규근기길나남노누다단달담대덕도동두라래로루리마만명무문미민바박백범별병보사산상새서석선설섭성세소솔수숙순숭슬승시신아안애엄여연영예오옥완요용우원월위유윤율은의이익인일자잔장재전정제조종주준중지진찬창채천철초춘충치탐태택판하한해혁현형혜호홍화환회효훈휘희운모배부림봉혼황량린을비솜공면탁온디항후려균묵송욱휴언들견추걸삼열웅분변양출타흥겸곤번식란더손술반빈실직악람권복심헌엽학개평늘랑향울련\"\n",
    "\n",
    "  for i in range(1):\n",
    "    text += first[random.randint(0,len(first)-1)]\n",
    "  for j in range(random.randint(1,2)):\n",
    "    text += last[random.randint(0,len(last)-1)]\n",
    "\n",
    "  return text"
   ]
  },
  {
   "cell_type": "code",
   "execution_count": 21,
   "metadata": {},
   "outputs": [],
   "source": [
    "def Sha256(string):\n",
    "    b = hashlib.sha256()\n",
    "    b.update(string.encode('euc-kr'))\n",
    "    return b.hexdigest() "
   ]
  },
  {
   "cell_type": "code",
   "execution_count": 30,
   "metadata": {},
   "outputs": [],
   "source": [
    "def Sha256salt(string,salt):\n",
    "    b = hashlib.sha256()\n",
    "    b.update((str(string)+str(salt)).encode('euc-kr'))\n",
    "    return b.hexdigest()"
   ]
  },
  {
   "cell_type": "code",
   "execution_count": 39,
   "metadata": {},
   "outputs": [],
   "source": [
    "result = [randName() for i in range(10)]"
   ]
  },
  {
   "cell_type": "code",
   "execution_count": 40,
   "metadata": {},
   "outputs": [],
   "source": [
    "sha256 = [Sha256(i) for i in result]"
   ]
  },
  {
   "cell_type": "code",
   "execution_count": 41,
   "metadata": {},
   "outputs": [],
   "source": [
    "sha256salt = [Sha256salt(i,len(i)) for i in result]"
   ]
  },
  {
   "cell_type": "code",
   "execution_count": 42,
   "metadata": {},
   "outputs": [
    {
     "data": {
      "text/plain": [
       "(['976feec7e11376a702e2977bc2dc2f56fc4f3c12f56a1522c527d36e4adfaa06',\n",
       "  '7141ca888b3ed012aacaa501e6559c257640c422536e14ec78851e3ef87f116d',\n",
       "  '58784e5d1f0539e7402836c4c74812018534e8233fb677b66a9fa79430814e9c',\n",
       "  'f57a6cf657831782936e37612e3891d5e985e951f3af3e5776a43ed8379f6478',\n",
       "  'd070f95e09840aecce8c133b07fde1033d52e4216fd015b2de484e6111b5f409',\n",
       "  '6ff261534cb58235355b2d6d8723e9b7cb5e79a8f9c49cfcc14aec6923406378',\n",
       "  '8270cca475f3aa78f3d50deca93cae6ff0136fe36afcc5d1d028c05a09834ca4',\n",
       "  'c8f0a282fb7e59416726aed59ef961325681871f6fbbb1858a951f570b0ab18c',\n",
       "  'bc5d2f3f7636f0e6dd06acfd816f52c8b92a364ed22a8000dd885d658080e04d',\n",
       "  'ced8d44c5b7a0e83bc4a9d4dbfd6459660bf748ff38154301c172d3a21047fd7'],\n",
       " ['25425e0607e1fa465b79ec48f980484d4209668ddbcd5a553b0774813627c90e',\n",
       "  'ba1f90bb414ae41260c2d84c640cc7f9d3836db3e507b2626ae6805d736b1d26',\n",
       "  '79e811c173ade3b60b109b4f1d984846620ae02a5f029a815784809252b8e09b',\n",
       "  '7b8882779c31b4c4f434ea0deb2b192d901c0b1e750f0d144c7e438df8fc84cb',\n",
       "  '9b67b0d6ec03689fdb379a4eabf9ccaab3a8f377028738a5f92c1b648f5dbd86',\n",
       "  '32c1bf77ccf0c627241841bb5eda52fb7f4d5910af6a3cffcc09373e8b08d6f4',\n",
       "  '21aafa305ce38e0f2b9978e2971dd791fbb13feccafa7090c527eabeea1786f6',\n",
       "  '270269423ed5fb4ed746b8db290861193c19864539a8dec4753ac7c0f4010404',\n",
       "  '7b5c36f4be69ade6795b3cc94ad21bc2ed78f788a2985b3ce225118c3daab1df',\n",
       "  '7e5723f70900e563a19ef4a562c85b4761127d08d1a8ad55f09ce597edea9e66'])"
      ]
     },
     "execution_count": 42,
     "metadata": {},
     "output_type": "execute_result"
    }
   ],
   "source": [
    "sha256 , sha256salt"
   ]
  },
  {
   "cell_type": "code",
   "execution_count": null,
   "metadata": {},
   "outputs": [],
   "source": []
  }
 ],
 "metadata": {
  "kernelspec": {
   "display_name": "Python 3",
   "language": "python",
   "name": "python3"
  },
  "language_info": {
   "codemirror_mode": {
    "name": "ipython",
    "version": 3
   },
   "file_extension": ".py",
   "mimetype": "text/x-python",
   "name": "python",
   "nbconvert_exporter": "python",
   "pygments_lexer": "ipython3",
   "version": "3.8.3"
  }
 },
 "nbformat": 4,
 "nbformat_minor": 4
}
