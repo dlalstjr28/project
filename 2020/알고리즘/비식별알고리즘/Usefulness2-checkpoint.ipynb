{
 "cells": [
  {
   "cell_type": "code",
   "execution_count": 224,
   "metadata": {},
   "outputs": [],
   "source": [
    "import sys\n",
    "import pandas as pd #import csv\n",
    "import numpy as np\n",
    "from numpy import dot\n",
    "from numpy.linalg import norm\n",
    "#from sklearn.metrics.pairwise import cosine_similarity"
   ]
  },
  {
   "cell_type": "code",
   "execution_count": 225,
   "metadata": {},
   "outputs": [
    {
     "data": {
      "text/html": [
       "<div>\n",
       "<style scoped>\n",
       "    .dataframe tbody tr th:only-of-type {\n",
       "        vertical-align: middle;\n",
       "    }\n",
       "\n",
       "    .dataframe tbody tr th {\n",
       "        vertical-align: top;\n",
       "    }\n",
       "\n",
       "    .dataframe thead th {\n",
       "        text-align: right;\n",
       "    }\n",
       "</style>\n",
       "<table border=\"1\" class=\"dataframe\">\n",
       "  <thead>\n",
       "    <tr style=\"text-align: right;\">\n",
       "      <th></th>\n",
       "      <th>name</th>\n",
       "      <th>email</th>\n",
       "      <th>phone</th>\n",
       "      <th>age</th>\n",
       "      <th>weight</th>\n",
       "      <th>sex</th>\n",
       "      <th>address</th>\n",
       "      <th>city</th>\n",
       "    </tr>\n",
       "  </thead>\n",
       "  <tbody>\n",
       "    <tr>\n",
       "      <th>0</th>\n",
       "      <td>김민재</td>\n",
       "      <td>yeongsigi@yu.com</td>\n",
       "      <td>019-636-4408</td>\n",
       "      <td>27</td>\n",
       "      <td>71</td>\n",
       "      <td>M</td>\n",
       "      <td>울산광역시 도봉구 테헤란034길 (명숙노리)</td>\n",
       "      <td>수원시 영통구</td>\n",
       "    </tr>\n",
       "    <tr>\n",
       "      <th>1</th>\n",
       "      <td>송성민</td>\n",
       "      <td>eunjeong75@hotmail.com</td>\n",
       "      <td>018-295-9974</td>\n",
       "      <td>32</td>\n",
       "      <td>50</td>\n",
       "      <td>F</td>\n",
       "      <td>울산광역시 종로구 백제고분로</td>\n",
       "      <td>안양시 동안구</td>\n",
       "    </tr>\n",
       "    <tr>\n",
       "      <th>2</th>\n",
       "      <td>이영철</td>\n",
       "      <td>eunseo73@jusighoesa.com</td>\n",
       "      <td>061-379-0772</td>\n",
       "      <td>61</td>\n",
       "      <td>56</td>\n",
       "      <td>M</td>\n",
       "      <td>부산광역시 강동구 서초대496길</td>\n",
       "      <td>당진시</td>\n",
       "    </tr>\n",
       "    <tr>\n",
       "      <th>3</th>\n",
       "      <td>김영길</td>\n",
       "      <td>jangyeji@dreamwiz.com</td>\n",
       "      <td>011-760-3970</td>\n",
       "      <td>33</td>\n",
       "      <td>64</td>\n",
       "      <td>F</td>\n",
       "      <td>강원도 파주시 영동대로 (정웅김동)</td>\n",
       "      <td>춘천시</td>\n",
       "    </tr>\n",
       "    <tr>\n",
       "      <th>4</th>\n",
       "      <td>이예지</td>\n",
       "      <td>coehyejin@daum.net</td>\n",
       "      <td>041-682-4843</td>\n",
       "      <td>80</td>\n",
       "      <td>86</td>\n",
       "      <td>F</td>\n",
       "      <td>전라북도 철원군 강남대6로 (정숙김강면)</td>\n",
       "      <td>광주시</td>\n",
       "    </tr>\n",
       "    <tr>\n",
       "      <th>5</th>\n",
       "      <td>김정웅</td>\n",
       "      <td>jangmisug@gimyun.com</td>\n",
       "      <td>051-508-7910</td>\n",
       "      <td>75</td>\n",
       "      <td>72</td>\n",
       "      <td>M</td>\n",
       "      <td>전라북도 안양시 만안구 양재천472가</td>\n",
       "      <td>서산시</td>\n",
       "    </tr>\n",
       "    <tr>\n",
       "      <th>6</th>\n",
       "      <td>김하은</td>\n",
       "      <td>ieungyeong@live.com</td>\n",
       "      <td>044-705-1230</td>\n",
       "      <td>63</td>\n",
       "      <td>59</td>\n",
       "      <td>M</td>\n",
       "      <td>인천광역시 강남구 반포대가 (혜진박면)</td>\n",
       "      <td>군포시</td>\n",
       "    </tr>\n",
       "    <tr>\n",
       "      <th>7</th>\n",
       "      <td>조서연</td>\n",
       "      <td>seojun72@hanmail.net</td>\n",
       "      <td>033-508-0694</td>\n",
       "      <td>50</td>\n",
       "      <td>88</td>\n",
       "      <td>F</td>\n",
       "      <td>전라남도 영동군 서초대938길</td>\n",
       "      <td>청주시 청원구</td>\n",
       "    </tr>\n",
       "    <tr>\n",
       "      <th>8</th>\n",
       "      <td>양채원</td>\n",
       "      <td>bgim@jusighoesa.kr</td>\n",
       "      <td>053-816-0046</td>\n",
       "      <td>7</td>\n",
       "      <td>46</td>\n",
       "      <td>F</td>\n",
       "      <td>제주특별자치도 고양시 일산동구 학동길</td>\n",
       "      <td>계룡시</td>\n",
       "    </tr>\n",
       "    <tr>\n",
       "      <th>9</th>\n",
       "      <td>박주원</td>\n",
       "      <td>ibag@ju.org</td>\n",
       "      <td>051-511-5170</td>\n",
       "      <td>71</td>\n",
       "      <td>89</td>\n",
       "      <td>M</td>\n",
       "      <td>충청남도 증평군 반포대로</td>\n",
       "      <td>의왕시</td>\n",
       "    </tr>\n",
       "  </tbody>\n",
       "</table>\n",
       "</div>"
      ],
      "text/plain": [
       "  name                    email         phone  age  weight sex  \\\n",
       "0  김민재         yeongsigi@yu.com  019-636-4408   27      71   M   \n",
       "1  송성민   eunjeong75@hotmail.com  018-295-9974   32      50   F   \n",
       "2  이영철  eunseo73@jusighoesa.com  061-379-0772   61      56   M   \n",
       "3  김영길    jangyeji@dreamwiz.com  011-760-3970   33      64   F   \n",
       "4  이예지       coehyejin@daum.net  041-682-4843   80      86   F   \n",
       "5  김정웅     jangmisug@gimyun.com  051-508-7910   75      72   M   \n",
       "6  김하은      ieungyeong@live.com  044-705-1230   63      59   M   \n",
       "7  조서연     seojun72@hanmail.net  033-508-0694   50      88   F   \n",
       "8  양채원       bgim@jusighoesa.kr  053-816-0046    7      46   F   \n",
       "9  박주원              ibag@ju.org  051-511-5170   71      89   M   \n",
       "\n",
       "                    address     city  \n",
       "0  울산광역시 도봉구 테헤란034길 (명숙노리)  수원시 영통구  \n",
       "1           울산광역시 종로구 백제고분로  안양시 동안구  \n",
       "2         부산광역시 강동구 서초대496길      당진시  \n",
       "3       강원도 파주시 영동대로 (정웅김동)      춘천시  \n",
       "4    전라북도 철원군 강남대6로 (정숙김강면)      광주시  \n",
       "5      전라북도 안양시 만안구 양재천472가      서산시  \n",
       "6     인천광역시 강남구 반포대가 (혜진박면)      군포시  \n",
       "7          전라남도 영동군 서초대938길  청주시 청원구  \n",
       "8      제주특별자치도 고양시 일산동구 학동길      계룡시  \n",
       "9             충청남도 증평군 반포대로      의왕시  "
      ]
     },
     "execution_count": 225,
     "metadata": {},
     "output_type": "execute_result"
    }
   ],
   "source": [
    "# 예시 데이터 생성\n",
    "import pandas as pd\n",
    "import random\n",
    "from faker import Faker\n",
    "fake = Faker(\"ko_KR\")\n",
    "\n",
    "df = pd.DataFrame(columns=('name'\n",
    "    , 'email'\n",
    "    , 'phone'\n",
    "    , 'age'\n",
    "    , 'weight'\n",
    "    , 'sex'\n",
    "    , 'address'\n",
    "    , 'city'))\n",
    "\n",
    "for i in range(10):\n",
    "    stuff = [fake.name()\n",
    "        , fake.email()\n",
    "        , fake.phone_number()\n",
    "        , fake.pyint(min_value=5, max_value=80)\n",
    "        , fake.pyint(min_value=40, max_value=90)\n",
    "        , random.choice(\"FM\")\n",
    "        , fake.address()\n",
    "        , fake.city()]\n",
    "    df.loc[i] = [item for item in stuff]\n",
    "\n",
    "df = df.astype({'age':'int','weight':'int'})\n",
    "\n",
    "df"
   ]
  },
  {
   "cell_type": "code",
   "execution_count": 226,
   "metadata": {},
   "outputs": [],
   "source": [
    "def mean_attr(X,Y): # U1 : Mean Attribute (10%)\n",
    "    meanDiff=X.mean()-Y.mean()\n",
    "    return meanDiff.mean()"
   ]
  },
  {
   "cell_type": "code",
   "execution_count": 227,
   "metadata": {},
   "outputs": [],
   "source": [
    "def mean_corr(X): # U2 : Mean Correlation (10%)\n",
    "    return X.corr(method='pearson')"
   ]
  },
  {
   "cell_type": "code",
   "execution_count": 228,
   "metadata": {},
   "outputs": [],
   "source": [
    "def cos_sim(X, Y): # U3 : Cosine Similarity (10%)\n",
    "     return dot(X,Y)/(norm(X)*norm(Y))"
   ]
  },
  {
   "cell_type": "code",
   "execution_count": 229,
   "metadata": {},
   "outputs": [],
   "source": [
    "def info_loss(X, Y): # U4 : Information Loss (15%)\n",
    "    # X.shape = Y.shape\n",
    "    total = 0\n",
    "    value = 0\n",
    "    for i in range(len(Y.index)): # total 산출\n",
    "        for j in range(len(Y.columns)):\n",
    "            value=abs(X.iloc[i,j]-Y.iloc[i,j])/abs(X.iloc[i,j])\n",
    "            total+=value \n",
    "    return total/len(Y.columns)*len(Y.index)"
   ]
  },
  {
   "cell_type": "code",
   "execution_count": 230,
   "metadata": {},
   "outputs": [],
   "source": [
    "def md_ecm(X): # U5 : Mean Distribution Equivalence Class Metric (20%)\n",
    "    \n",
    "    return numpy.var(df[X])"
   ]
  },
  {
   "cell_type": "code",
   "execution_count": 231,
   "metadata": {},
   "outputs": [],
   "source": [
    "def na_ecsm(X,k): # U6 : Normalized Average Equivalence Class Size Metric (15%)\n",
    "    Hset = len(df.index) / k\n",
    "    return (len(X.index) / Hset) / k"
   ]
  },
  {
   "cell_type": "code",
   "execution_count": 232,
   "metadata": {},
   "outputs": [],
   "source": [
    "def nu_em(X): # U7 : Non-uniform Entropy Metric (20%)\n",
    "    return null"
   ]
  },
  {
   "cell_type": "code",
   "execution_count": 233,
   "metadata": {},
   "outputs": [
    {
     "data": {
      "text/plain": [
       "0.0"
      ]
     },
     "execution_count": 233,
     "metadata": {},
     "output_type": "execute_result"
    }
   ],
   "source": [
    "mean_attr(df,df)"
   ]
  },
  {
   "cell_type": "code",
   "execution_count": 234,
   "metadata": {},
   "outputs": [
    {
     "data": {
      "text/html": [
       "<div>\n",
       "<style scoped>\n",
       "    .dataframe tbody tr th:only-of-type {\n",
       "        vertical-align: middle;\n",
       "    }\n",
       "\n",
       "    .dataframe tbody tr th {\n",
       "        vertical-align: top;\n",
       "    }\n",
       "\n",
       "    .dataframe thead th {\n",
       "        text-align: right;\n",
       "    }\n",
       "</style>\n",
       "<table border=\"1\" class=\"dataframe\">\n",
       "  <thead>\n",
       "    <tr style=\"text-align: right;\">\n",
       "      <th></th>\n",
       "      <th>age</th>\n",
       "      <th>weight</th>\n",
       "    </tr>\n",
       "  </thead>\n",
       "  <tbody>\n",
       "    <tr>\n",
       "      <th>age</th>\n",
       "      <td>1.000000</td>\n",
       "      <td>0.613025</td>\n",
       "    </tr>\n",
       "    <tr>\n",
       "      <th>weight</th>\n",
       "      <td>0.613025</td>\n",
       "      <td>1.000000</td>\n",
       "    </tr>\n",
       "  </tbody>\n",
       "</table>\n",
       "</div>"
      ],
      "text/plain": [
       "             age    weight\n",
       "age     1.000000  0.613025\n",
       "weight  0.613025  1.000000"
      ]
     },
     "execution_count": 234,
     "metadata": {},
     "output_type": "execute_result"
    }
   ],
   "source": [
    "mean_corr(df)"
   ]
  },
  {
   "cell_type": "code",
   "execution_count": 235,
   "metadata": {},
   "outputs": [
    {
     "data": {
      "text/plain": [
       "0.9999999999999999"
      ]
     },
     "execution_count": 235,
     "metadata": {},
     "output_type": "execute_result"
    }
   ],
   "source": [
    "cos_sim(df['age'],df['age'])"
   ]
  },
  {
   "cell_type": "code",
   "execution_count": 236,
   "metadata": {},
   "outputs": [
    {
     "data": {
      "text/plain": [
       "0.0"
      ]
     },
     "execution_count": 236,
     "metadata": {},
     "output_type": "execute_result"
    }
   ],
   "source": [
    "info_loss(df[['age','weight']],df[['age','weight']])"
   ]
  },
  {
   "cell_type": "code",
   "execution_count": 237,
   "metadata": {},
   "outputs": [
    {
     "data": {
      "text/plain": [
       "1.0"
      ]
     },
     "execution_count": 237,
     "metadata": {},
     "output_type": "execute_result"
    }
   ],
   "source": [
    "na_ecsm(df,2)"
   ]
  },
  {
   "cell_type": "code",
   "execution_count": 238,
   "metadata": {},
   "outputs": [],
   "source": [
    "import seaborn as sns"
   ]
  },
  {
   "cell_type": "code",
   "execution_count": 239,
   "metadata": {},
   "outputs": [
    {
     "data": {
      "text/plain": [
       "<matplotlib.axes._subplots.AxesSubplot at 0xd73f3c6a60>"
      ]
     },
     "execution_count": 239,
     "metadata": {},
     "output_type": "execute_result"
    },
    {
     "data": {
      "image/png": "[encoded data removed]",
      "text/plain": [
       "<Figure size 432x288 with 1 Axes>"
      ]
     },
     "metadata": {
      "needs_background": "light"
     },
     "output_type": "display_data"
    }
   ],
   "source": [
    "df.plot.scatter(x='weight', y='age', s=df['age'],grid=True)\n"
   ]
  },
  {
   "cell_type": "code",
   "execution_count": 240,
   "metadata": {},
   "outputs": [
    {
     "data": {
      "text/html": [
       "<div>\n",
       "<style scoped>\n",
       "    .dataframe tbody tr th:only-of-type {\n",
       "        vertical-align: middle;\n",
       "    }\n",
       "\n",
       "    .dataframe tbody tr th {\n",
       "        vertical-align: top;\n",
       "    }\n",
       "\n",
       "    .dataframe thead th {\n",
       "        text-align: right;\n",
       "    }\n",
       "</style>\n",
       "<table border=\"1\" class=\"dataframe\">\n",
       "  <thead>\n",
       "    <tr style=\"text-align: right;\">\n",
       "      <th></th>\n",
       "      <th>name</th>\n",
       "      <th>email</th>\n",
       "      <th>phone</th>\n",
       "      <th>age</th>\n",
       "      <th>weight</th>\n",
       "      <th>sex</th>\n",
       "      <th>address</th>\n",
       "      <th>city</th>\n",
       "    </tr>\n",
       "  </thead>\n",
       "  <tbody>\n",
       "    <tr>\n",
       "      <th>0</th>\n",
       "      <td>김민재</td>\n",
       "      <td>yeongsigi@yu.com</td>\n",
       "      <td>019-636-4408</td>\n",
       "      <td>27</td>\n",
       "      <td>71</td>\n",
       "      <td>M</td>\n",
       "      <td>울산광역시 도봉구 테헤란034길 (명숙노리)</td>\n",
       "      <td>수원시 영통구</td>\n",
       "    </tr>\n",
       "    <tr>\n",
       "      <th>1</th>\n",
       "      <td>송성민</td>\n",
       "      <td>eunjeong75@hotmail.com</td>\n",
       "      <td>018-295-9974</td>\n",
       "      <td>32</td>\n",
       "      <td>50</td>\n",
       "      <td>F</td>\n",
       "      <td>울산광역시 종로구 백제고분로</td>\n",
       "      <td>안양시 동안구</td>\n",
       "    </tr>\n",
       "    <tr>\n",
       "      <th>2</th>\n",
       "      <td>이영철</td>\n",
       "      <td>eunseo73@jusighoesa.com</td>\n",
       "      <td>061-379-0772</td>\n",
       "      <td>61</td>\n",
       "      <td>56</td>\n",
       "      <td>M</td>\n",
       "      <td>부산광역시 강동구 서초대496길</td>\n",
       "      <td>당진시</td>\n",
       "    </tr>\n",
       "    <tr>\n",
       "      <th>3</th>\n",
       "      <td>김영길</td>\n",
       "      <td>jangyeji@dreamwiz.com</td>\n",
       "      <td>011-760-3970</td>\n",
       "      <td>33</td>\n",
       "      <td>64</td>\n",
       "      <td>F</td>\n",
       "      <td>강원도 파주시 영동대로 (정웅김동)</td>\n",
       "      <td>춘천시</td>\n",
       "    </tr>\n",
       "    <tr>\n",
       "      <th>4</th>\n",
       "      <td>이예지</td>\n",
       "      <td>coehyejin@daum.net</td>\n",
       "      <td>041-682-4843</td>\n",
       "      <td>80</td>\n",
       "      <td>86</td>\n",
       "      <td>F</td>\n",
       "      <td>전라북도 철원군 강남대6로 (정숙김강면)</td>\n",
       "      <td>광주시</td>\n",
       "    </tr>\n",
       "    <tr>\n",
       "      <th>5</th>\n",
       "      <td>김정웅</td>\n",
       "      <td>jangmisug@gimyun.com</td>\n",
       "      <td>051-508-7910</td>\n",
       "      <td>75</td>\n",
       "      <td>72</td>\n",
       "      <td>M</td>\n",
       "      <td>전라북도 안양시 만안구 양재천472가</td>\n",
       "      <td>서산시</td>\n",
       "    </tr>\n",
       "    <tr>\n",
       "      <th>6</th>\n",
       "      <td>김하은</td>\n",
       "      <td>ieungyeong@live.com</td>\n",
       "      <td>044-705-1230</td>\n",
       "      <td>63</td>\n",
       "      <td>59</td>\n",
       "      <td>M</td>\n",
       "      <td>인천광역시 강남구 반포대가 (혜진박면)</td>\n",
       "      <td>군포시</td>\n",
       "    </tr>\n",
       "    <tr>\n",
       "      <th>7</th>\n",
       "      <td>조서연</td>\n",
       "      <td>seojun72@hanmail.net</td>\n",
       "      <td>033-508-0694</td>\n",
       "      <td>50</td>\n",
       "      <td>88</td>\n",
       "      <td>F</td>\n",
       "      <td>전라남도 영동군 서초대938길</td>\n",
       "      <td>청주시 청원구</td>\n",
       "    </tr>\n",
       "    <tr>\n",
       "      <th>8</th>\n",
       "      <td>양채원</td>\n",
       "      <td>bgim@jusighoesa.kr</td>\n",
       "      <td>053-816-0046</td>\n",
       "      <td>7</td>\n",
       "      <td>46</td>\n",
       "      <td>F</td>\n",
       "      <td>제주특별자치도 고양시 일산동구 학동길</td>\n",
       "      <td>계룡시</td>\n",
       "    </tr>\n",
       "    <tr>\n",
       "      <th>9</th>\n",
       "      <td>박주원</td>\n",
       "      <td>ibag@ju.org</td>\n",
       "      <td>051-511-5170</td>\n",
       "      <td>71</td>\n",
       "      <td>89</td>\n",
       "      <td>M</td>\n",
       "      <td>충청남도 증평군 반포대로</td>\n",
       "      <td>의왕시</td>\n",
       "    </tr>\n",
       "  </tbody>\n",
       "</table>\n",
       "</div>"
      ],
      "text/plain": [
       "  name                    email         phone  age  weight sex  \\\n",
       "0  김민재         yeongsigi@yu.com  019-636-4408   27      71   M   \n",
       "1  송성민   eunjeong75@hotmail.com  018-295-9974   32      50   F   \n",
       "2  이영철  eunseo73@jusighoesa.com  061-379-0772   61      56   M   \n",
       "3  김영길    jangyeji@dreamwiz.com  011-760-3970   33      64   F   \n",
       "4  이예지       coehyejin@daum.net  041-682-4843   80      86   F   \n",
       "5  김정웅     jangmisug@gimyun.com  051-508-7910   75      72   M   \n",
       "6  김하은      ieungyeong@live.com  044-705-1230   63      59   M   \n",
       "7  조서연     seojun72@hanmail.net  033-508-0694   50      88   F   \n",
       "8  양채원       bgim@jusighoesa.kr  053-816-0046    7      46   F   \n",
       "9  박주원              ibag@ju.org  051-511-5170   71      89   M   \n",
       "\n",
       "                    address     city  \n",
       "0  울산광역시 도봉구 테헤란034길 (명숙노리)  수원시 영통구  \n",
       "1           울산광역시 종로구 백제고분로  안양시 동안구  \n",
       "2         부산광역시 강동구 서초대496길      당진시  \n",
       "3       강원도 파주시 영동대로 (정웅김동)      춘천시  \n",
       "4    전라북도 철원군 강남대6로 (정숙김강면)      광주시  \n",
       "5      전라북도 안양시 만안구 양재천472가      서산시  \n",
       "6     인천광역시 강남구 반포대가 (혜진박면)      군포시  \n",
       "7          전라남도 영동군 서초대938길  청주시 청원구  \n",
       "8      제주특별자치도 고양시 일산동구 학동길      계룡시  \n",
       "9             충청남도 증평군 반포대로      의왕시  "
      ]
     },
     "execution_count": 240,
     "metadata": {},
     "output_type": "execute_result"
    }
   ],
   "source": [
    "df"
   ]
  },
  {
   "cell_type": "code",
   "execution_count": 241,
   "metadata": {},
   "outputs": [
    {
     "data": {
      "text/plain": [
       "0    김민재\n",
       "1    송성민\n",
       "2    이영철\n",
       "3    김영길\n",
       "4    이예지\n",
       "5    김정웅\n",
       "6    김하은\n",
       "7    조서연\n",
       "8    양채원\n",
       "9    박주원\n",
       "Name: name, dtype: object"
      ]
     },
     "execution_count": 241,
     "metadata": {},
     "output_type": "execute_result"
    }
   ],
   "source": [
    "df['name']"
   ]
  },
  {
   "cell_type": "code",
   "execution_count": null,
   "metadata": {},
   "outputs": [],
   "source": []
  },
  {
   "cell_type": "code",
   "execution_count": 242,
   "metadata": {},
   "outputs": [
    {
     "name": "stdout",
     "output_type": "stream",
     "text": [
      "['김**', '송**', '이**', '김**', '이**', '김**', '김**', '조**', '양**', '박**']\n"
     ]
    }
   ],
   "source": [
    "a = list(np.array(df['name'].tolist()))\n",
    "b = []\n",
    "for name_sec in a:    \n",
    "    name_sec = name_sec[0:1]+'**'\n",
    "    b.append(name_sec)\n",
    "print(b)\n",
    "    \n",
    "        "
   ]
  },
  {
   "cell_type": "code",
   "execution_count": 243,
   "metadata": {},
   "outputs": [
    {
     "data": {
      "text/plain": [
       "0    울산광역시 도봉구 테헤란034길 (명숙노리)\n",
       "1             울산광역시 종로구 백제고분로\n",
       "2           부산광역시 강동구 서초대496길\n",
       "3         강원도 파주시 영동대로 (정웅김동)\n",
       "4      전라북도 철원군 강남대6로 (정숙김강면)\n",
       "5        전라북도 안양시 만안구 양재천472가\n",
       "6       인천광역시 강남구 반포대가 (혜진박면)\n",
       "7            전라남도 영동군 서초대938길\n",
       "8        제주특별자치도 고양시 일산동구 학동길\n",
       "9               충청남도 증평군 반포대로\n",
       "Name: address, dtype: object"
      ]
     },
     "execution_count": 243,
     "metadata": {},
     "output_type": "execute_result"
    }
   ],
   "source": [
    "df['address']"
   ]
  },
  {
   "cell_type": "code",
   "execution_count": 244,
   "metadata": {},
   "outputs": [
    {
     "data": {
      "text/plain": [
       "0    울산광역시 도봉구 테헤란034길 (명숙노리)\n",
       "1             울산광역시 종로구 백제고분로\n",
       "2           부산광역시 강동구 서초대496길\n",
       "3         강원도 파주시 영동대로 (정웅김동)\n",
       "4      전라북도 철원군 강남대6로 (정숙김강면)\n",
       "5        전라북도 안양시 만안구 양재천472가\n",
       "6       인천광역시 강남구 반포대가 (혜진박면)\n",
       "7            전라남도 영동군 서초대938길\n",
       "8        제주특별자치도 고양시 일산동구 학동길\n",
       "9               충청남도 증평군 반포대로\n",
       "Name: address, dtype: object"
      ]
     },
     "execution_count": 244,
     "metadata": {},
     "output_type": "execute_result"
    }
   ],
   "source": [
    "df['address']"
   ]
  },
  {
   "cell_type": "code",
   "execution_count": null,
   "metadata": {},
   "outputs": [],
   "source": []
  },
  {
   "cell_type": "code",
   "execution_count": 245,
   "metadata": {},
   "outputs": [],
   "source": [
    "# 비식별 코드 test\n",
    "a = []\n",
    "b =[]"
   ]
  },
  {
   "cell_type": "code",
   "execution_count": 246,
   "metadata": {},
   "outputs": [],
   "source": [
    "def sec_name() :\n",
    "    a = list(np.array(df['name'].tolist()))\n",
    "    b = []\n",
    "    for name_sec in a:    \n",
    "        name_sec = name_sec[0:1]+'**'\n",
    "        b.append(name_sec)\n",
    "    return b\n",
    "    "
   ]
  },
  {
   "cell_type": "code",
   "execution_count": 247,
   "metadata": {},
   "outputs": [
    {
     "data": {
      "text/plain": [
       "[]"
      ]
     },
     "execution_count": 247,
     "metadata": {},
     "output_type": "execute_result"
    }
   ],
   "source": [
    "b"
   ]
  },
  {
   "cell_type": "code",
   "execution_count": 248,
   "metadata": {},
   "outputs": [],
   "source": [
    "def sec_addr() :\n",
    "    adr = df['address'].str.split(' ')\n",
    "    a = []\n",
    "    for i in adr :\n",
    "        i = i[:2]\n",
    "        a.append(\" \".join(i))\n",
    "    return a"
   ]
  },
  {
   "cell_type": "code",
   "execution_count": 249,
   "metadata": {},
   "outputs": [
    {
     "data": {
      "text/plain": [
       "[]"
      ]
     },
     "execution_count": 249,
     "metadata": {},
     "output_type": "execute_result"
    }
   ],
   "source": [
    "a"
   ]
  },
  {
   "cell_type": "code",
   "execution_count": null,
   "metadata": {},
   "outputs": [],
   "source": []
  },
  {
   "cell_type": "code",
   "execution_count": 250,
   "metadata": {},
   "outputs": [
    {
     "data": {
      "text/plain": [
       "['울산광역시 도봉구',\n",
       " '울산광역시 종로구',\n",
       " '부산광역시 강동구',\n",
       " '강원도 파주시',\n",
       " '전라북도 철원군',\n",
       " '전라북도 안양시',\n",
       " '인천광역시 강남구',\n",
       " '전라남도 영동군',\n",
       " '제주특별자치도 고양시',\n",
       " '충청남도 증평군']"
      ]
     },
     "execution_count": 250,
     "metadata": {},
     "output_type": "execute_result"
    }
   ],
   "source": [
    "sec_addr()"
   ]
  },
  {
   "cell_type": "code",
   "execution_count": 251,
   "metadata": {},
   "outputs": [
    {
     "data": {
      "text/plain": [
       "['김**', '송**', '이**', '김**', '이**', '김**', '김**', '조**', '양**', '박**']"
      ]
     },
     "execution_count": 251,
     "metadata": {},
     "output_type": "execute_result"
    }
   ],
   "source": [
    "sec_name()"
   ]
  },
  {
   "cell_type": "code",
   "execution_count": 252,
   "metadata": {},
   "outputs": [],
   "source": [
    "df['name'] = sec_name()"
   ]
  },
  {
   "cell_type": "code",
   "execution_count": 253,
   "metadata": {},
   "outputs": [],
   "source": [
    "df['address'] = sec_addr()"
   ]
  },
  {
   "cell_type": "code",
   "execution_count": 254,
   "metadata": {},
   "outputs": [
    {
     "data": {
      "text/html": [
       "<div>\n",
       "<style scoped>\n",
       "    .dataframe tbody tr th:only-of-type {\n",
       "        vertical-align: middle;\n",
       "    }\n",
       "\n",
       "    .dataframe tbody tr th {\n",
       "        vertical-align: top;\n",
       "    }\n",
       "\n",
       "    .dataframe thead th {\n",
       "        text-align: right;\n",
       "    }\n",
       "</style>\n",
       "<table border=\"1\" class=\"dataframe\">\n",
       "  <thead>\n",
       "    <tr style=\"text-align: right;\">\n",
       "      <th></th>\n",
       "      <th>name</th>\n",
       "      <th>email</th>\n",
       "      <th>phone</th>\n",
       "      <th>age</th>\n",
       "      <th>weight</th>\n",
       "      <th>sex</th>\n",
       "      <th>address</th>\n",
       "      <th>city</th>\n",
       "    </tr>\n",
       "  </thead>\n",
       "  <tbody>\n",
       "    <tr>\n",
       "      <th>0</th>\n",
       "      <td>김**</td>\n",
       "      <td>yeongsigi@yu.com</td>\n",
       "      <td>019-636-4408</td>\n",
       "      <td>27</td>\n",
       "      <td>71</td>\n",
       "      <td>M</td>\n",
       "      <td>울산광역시 도봉구</td>\n",
       "      <td>수원시 영통구</td>\n",
       "    </tr>\n",
       "    <tr>\n",
       "      <th>1</th>\n",
       "      <td>송**</td>\n",
       "      <td>eunjeong75@hotmail.com</td>\n",
       "      <td>018-295-9974</td>\n",
       "      <td>32</td>\n",
       "      <td>50</td>\n",
       "      <td>F</td>\n",
       "      <td>울산광역시 종로구</td>\n",
       "      <td>안양시 동안구</td>\n",
       "    </tr>\n",
       "    <tr>\n",
       "      <th>2</th>\n",
       "      <td>이**</td>\n",
       "      <td>eunseo73@jusighoesa.com</td>\n",
       "      <td>061-379-0772</td>\n",
       "      <td>61</td>\n",
       "      <td>56</td>\n",
       "      <td>M</td>\n",
       "      <td>부산광역시 강동구</td>\n",
       "      <td>당진시</td>\n",
       "    </tr>\n",
       "    <tr>\n",
       "      <th>3</th>\n",
       "      <td>김**</td>\n",
       "      <td>jangyeji@dreamwiz.com</td>\n",
       "      <td>011-760-3970</td>\n",
       "      <td>33</td>\n",
       "      <td>64</td>\n",
       "      <td>F</td>\n",
       "      <td>강원도 파주시</td>\n",
       "      <td>춘천시</td>\n",
       "    </tr>\n",
       "    <tr>\n",
       "      <th>4</th>\n",
       "      <td>이**</td>\n",
       "      <td>coehyejin@daum.net</td>\n",
       "      <td>041-682-4843</td>\n",
       "      <td>80</td>\n",
       "      <td>86</td>\n",
       "      <td>F</td>\n",
       "      <td>전라북도 철원군</td>\n",
       "      <td>광주시</td>\n",
       "    </tr>\n",
       "    <tr>\n",
       "      <th>5</th>\n",
       "      <td>김**</td>\n",
       "      <td>jangmisug@gimyun.com</td>\n",
       "      <td>051-508-7910</td>\n",
       "      <td>75</td>\n",
       "      <td>72</td>\n",
       "      <td>M</td>\n",
       "      <td>전라북도 안양시</td>\n",
       "      <td>서산시</td>\n",
       "    </tr>\n",
       "    <tr>\n",
       "      <th>6</th>\n",
       "      <td>김**</td>\n",
       "      <td>ieungyeong@live.com</td>\n",
       "      <td>044-705-1230</td>\n",
       "      <td>63</td>\n",
       "      <td>59</td>\n",
       "      <td>M</td>\n",
       "      <td>인천광역시 강남구</td>\n",
       "      <td>군포시</td>\n",
       "    </tr>\n",
       "    <tr>\n",
       "      <th>7</th>\n",
       "      <td>조**</td>\n",
       "      <td>seojun72@hanmail.net</td>\n",
       "      <td>033-508-0694</td>\n",
       "      <td>50</td>\n",
       "      <td>88</td>\n",
       "      <td>F</td>\n",
       "      <td>전라남도 영동군</td>\n",
       "      <td>청주시 청원구</td>\n",
       "    </tr>\n",
       "    <tr>\n",
       "      <th>8</th>\n",
       "      <td>양**</td>\n",
       "      <td>bgim@jusighoesa.kr</td>\n",
       "      <td>053-816-0046</td>\n",
       "      <td>7</td>\n",
       "      <td>46</td>\n",
       "      <td>F</td>\n",
       "      <td>제주특별자치도 고양시</td>\n",
       "      <td>계룡시</td>\n",
       "    </tr>\n",
       "    <tr>\n",
       "      <th>9</th>\n",
       "      <td>박**</td>\n",
       "      <td>ibag@ju.org</td>\n",
       "      <td>051-511-5170</td>\n",
       "      <td>71</td>\n",
       "      <td>89</td>\n",
       "      <td>M</td>\n",
       "      <td>충청남도 증평군</td>\n",
       "      <td>의왕시</td>\n",
       "    </tr>\n",
       "  </tbody>\n",
       "</table>\n",
       "</div>"
      ],
      "text/plain": [
       "  name                    email         phone  age  weight sex      address  \\\n",
       "0  김**         yeongsigi@yu.com  019-636-4408   27      71   M    울산광역시 도봉구   \n",
       "1  송**   eunjeong75@hotmail.com  018-295-9974   32      50   F    울산광역시 종로구   \n",
       "2  이**  eunseo73@jusighoesa.com  061-379-0772   61      56   M    부산광역시 강동구   \n",
       "3  김**    jangyeji@dreamwiz.com  011-760-3970   33      64   F      강원도 파주시   \n",
       "4  이**       coehyejin@daum.net  041-682-4843   80      86   F     전라북도 철원군   \n",
       "5  김**     jangmisug@gimyun.com  051-508-7910   75      72   M     전라북도 안양시   \n",
       "6  김**      ieungyeong@live.com  044-705-1230   63      59   M    인천광역시 강남구   \n",
       "7  조**     seojun72@hanmail.net  033-508-0694   50      88   F     전라남도 영동군   \n",
       "8  양**       bgim@jusighoesa.kr  053-816-0046    7      46   F  제주특별자치도 고양시   \n",
       "9  박**              ibag@ju.org  051-511-5170   71      89   M     충청남도 증평군   \n",
       "\n",
       "      city  \n",
       "0  수원시 영통구  \n",
       "1  안양시 동안구  \n",
       "2      당진시  \n",
       "3      춘천시  \n",
       "4      광주시  \n",
       "5      서산시  \n",
       "6      군포시  \n",
       "7  청주시 청원구  \n",
       "8      계룡시  \n",
       "9      의왕시  "
      ]
     },
     "execution_count": 254,
     "metadata": {},
     "output_type": "execute_result"
    }
   ],
   "source": [
    "df"
   ]
  },
  {
   "cell_type": "code",
   "execution_count": null,
   "metadata": {},
   "outputs": [],
   "source": []
  }
 ],
 "metadata": {
  "kernelspec": {
   "display_name": "Python 3",
   "language": "python",
   "name": "python3"
  },
  "language_info": {
   "codemirror_mode": {
    "name": "ipython",
    "version": 3
   },
   "file_extension": ".py",
   "mimetype": "text/x-python",
   "name": "python",
   "nbconvert_exporter": "python",
   "pygments_lexer": "ipython3",
   "version": "3.8.3"
  }
 },
 "nbformat": 4,
 "nbformat_minor": 4
}
