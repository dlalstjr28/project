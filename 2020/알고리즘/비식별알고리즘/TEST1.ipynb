{
 "cells": [
  {
   "cell_type": "code",
   "execution_count": 317,
   "metadata": {},
   "outputs": [],
   "source": [
    "from scipy.stats import norm\n",
    "import pandas as pd\n",
    "import numpy as np\n",
    "import datetime\n",
    "import random"
   ]
  },
  {
   "cell_type": "code",
   "execution_count": 318,
   "metadata": {},
   "outputs": [],
   "source": [
    "def randAddress():\n",
    "    listing = ['서울특별시 중구', '서울특별시 용산구', '서울특별시 마포구', '서울특별시 강서구', '서울특별시 영등포구', '서울특별시 동작구', '서울특별시 강남구', '서울특별시 송파구', '서울특별시 강동구', '서울특별시 서초구', '서울특별시 중랑구', '서울특별시 성북구', '서울특별시 노원구', '서울특별시 은평구', '서울특별시 양천구', '서울특별시 구로구', '서울특별시 금천구', '서울특별시 종로구', '서울특별시 성동구', '서울특별시 광진구', '서울특별시 동대문구', '서울특별시 강북구', '서울특별시 도봉구', '서울특별시 서대문구', '서울특별시 관악구', '충청북도 청원군', '충청북도 청주시 흥덕구', '충청북도 충주시', '충청북도 진천군', '충청북도 청주시 상당구', '충청북도 음성군', '충청북도 영동군', '충청북도 단양군', '충청북도 청주시 청원구', '충청북도 청주시 서원구', '충청북도 보은군', '충청북도 제천시', '충청북도 옥천군', '충청북도 증평군', '충청북도 괴산군', '충청남도 아산시', '충청남도 당진군', '충청남도 논산시', '충청남도 계룡시', '충청남도 공주시', '충청남도 연기군', '충청남도 홍성군', '충청남도 천안시 동남구', '충청남도 천안시 서북구', '충청남도 천안시', '충청남도 청양군', '충청남도 보령시', '충청남도 서산시', '충청남도 금산군', '충청남도 부여군', '충청남도 예산군', '충청남도 당진시', '충청남도 서천군', '충청남도 태안군', '제주특별자치도 제주시', '제주특별자치도 서귀포시', '전라북도 남원시', '전라북도 장수군', '전라북도 순창군', '전라북도 완주군', '전라북도 전주시 덕진구', '전라북도 전주시 완산구', '전라북도 진안군', '전라북도 임실군', '전라북도 전주시', '전라북도 익산시', '전라북도 김제시', '전라북도 무주군', '전라북도 고창군', '전라북도 부안군', '전라북도 정읍시', '전라북도 군산시', '전라남도 담양군', '전라남도 순천시', '전라남도 영광군', '전라남도 장성군', '전라남도 나주시', '전라남도 강진군', '전라남도 해남군', '전라남도 목포시', '전라남도 여수시', '전라남도 광양시', '전라남도 화순군', '전라남도 구례군', '전라남도 보성군', '전라남도 장흥군', '전라남도 영암군', '전라남도 무안군', '전라남도 함평군', '전라남도 신안군', '전라남도 진도군', '전라남도 곡성군', '전라남도 고흥군', '전라남도 완도군', '인천광역시 남구', '인천광역시 미추홀구', '인천광역시 연수구', '인천광역시 남동구', '인천광역시 중구', '인천광역시 동구', '인천광역시 부평구', '인천광역시 계양구', '인천광역시 서구', '인천광역시 강화군', '울산광역시 울주군', '울산광역시 북구', '울산광역시 중구', '울산광역시 남구', '부산광역시 기장군', '부산광역시 부산진구', '부산광역시 연제구', '부산광역시 동래구', '부산광역시 남구', '부산광역시 북구', '부산광역시 금정구', '부산광역시 강서구', '부산광역시 서구', '부산광역시 동구', '부산광역시 사상구', '부산광역시 해운대구', '부산광역시 수영구', '부산광역시 영도구', '부산광역시 사하구', '대전광역시 유성구', '대전광역시 동구', '대전광역시 대덕구', '대전광역시 서구', '대전광역시 중구', '대구광역시 달성군', '대구광역시 서구', '대구광역시 중구', '대구광역시 남구', '대구광역시 달서구', '대구광역시 동구', '대구광역시 북구', '대구광역시 수성구', '광주광역시 동구', '광주광역시 서구', '광주광역시 북구', '광주광역시 남구', '광주광역시 광산구', '경상북도 고령군', '경상북도 상주시', '경상북도 울진군', '경상북도 포항시 남구', '경상북도 포항시 북구', '경상북도 김천시', '경상북도 포항시', '경상북도 경산시', '경상북도 청도군', '경상북도 청송군', '경상북도 경주시', '경상북도 안동시', '경상북도 구미시', '경상북도 영주시', '경상북도 영천시', '경상북도 성주군', '경상북도 예천군', '경상북도 문경시', '경상북도 영양군', '경상북도 의성군', '경상북도 영덕군', '경상북도 칠곡군', '경상북도 군위군', '경상북도 봉화군', '경상남도 함양군', '경상남도 거창군', '경상남도 합천군', '경상남도 산청군', '경상남도 양산시', '경상남도 함안군', '경상남도 김해시', '경상남도 창원시 진해구', '경상남도 의령군', '경상남도 창녕군', '경상남도 밀양시', '경상남도 창원시 의창구', '경상남도 창원시 성산구', '경상남도 창원시 마산합포구', '경상남도 창원시 마산회원구', '경상남도 창원시', '경상남도 진주시', '경상남도 사천시', '경상남도 거제시', '경상남도 고성군', '경상남도 하동군', '경상남도 통영시', '경상남도 남해군', '경기도 여주군', '경기도 부천시 원미구', '경기도 부천시 소사구', '경기도 부천시 오정구', '경기도 평택시', '경기도 시흥시', '경기도 오산시', '경기도 김포시', '경기도 이천시', '경기도 안산시 단원구', '경기도 수원시 팔달구', '경기도 용인시 처인구', '경기도 화성시', '경기도 안성시', '경기도 수원시 권선구', '경기도 광주시', '경기도 성남시', '경기도 성남시 중원구', '경기도 안양시 동안구', '경기도 부천시', '경기도 고양시 일산서구', '경기도 과천시', '경기도 남양주시', '경기도 고양시 덕양구', '경기도 가평군', '경기도 수원시 장안구', '경기도 수원시 영통구', '경기도 용인시 기흥구', '경기도 수원시', '경기도 성남시 수정구', '경기도 성남시 분당구', '경기도 의정부시', '경기도 안양시', '경기도 안양시 만안구', '경기도 파주시', '경기도 광명시', '경기도 동두천시', '경기도 안산시 상록구', '경기도 고양시 일산동구', '경기도 의왕시', '경기도 하남시', '경기도 용인시 수지구', '경기도 용인시', '경기도 여주시', '경기도 양주시', '경기도 포천시', '경기도 연천군', '경기도 양평군', '경기도 안산시', '경기도 구리시', '경기도 군포시', '강원도 원주시', '강원도 삼척시', '강원도 영월군', '강원도 강릉시', '강원도 동해시', '강원도 태백시', '강원도 속초시', '강원도 홍천군', '강원도 횡성군', '강원도 평창군', '강원도 정선군', '강원도 철원군', '강원도 화천군', '강원도 양구군', '강원도 인제군', '강원도 고성군', '강원도 양양군', '강원도 춘천시']\n",
    "    return listing[random.randint(0,len(listing)-1)]\n",
    "def randName():\n",
    "  text = \"\"\n",
    "  first = \"김이박최정강조윤장임한오서신권황안송류전홍고문양손배조백허유남심노정하곽성차주우구신임나전민유진지엄채원천방공강현함변염양변여추노도소신석선설마주연방위표명기반왕모장남탁국여진구\"\n",
    "  last = \"가강건경고관광구규근기길나남노누다단달담대덕도동두라래로루리마만명무문미민바박백범별병보사산상새서석선설섭성세소솔수숙순숭슬승시신아안애엄여연영예오옥완요용우원월위유윤율은의이익인일자잔장재전정제조종주준중지진찬창채천철초춘충치탐태택판하한해혁현형혜호홍화환회효훈휘희운모배부림봉혼황량린을비솜공면탁온디항후려균묵송욱휴언들견추걸삼열웅분변양출타흥겸곤번식란더손술반빈실직악람권복심헌엽학개평늘랑향울련\"\n",
    "\n",
    "  for i in range(1):\n",
    "    text += first[random.randint(0,len(first)-1)]\n",
    "  for j in range(random.randint(1,2)):\n",
    "    text += last[random.randint(0,len(last)-1)]\n",
    "\n",
    "  return text\n",
    "\n",
    "def randfamily():\n",
    "    family = ['외동딸', '외동아들', '1남1녀', '1남2녀', '2남1녀', '다자녀', '실부실모', '편부', '편모']\n",
    "    return random.choice(family)\n",
    "\n",
    "\n",
    "def randOld():\n",
    "  return random.randint(10,100)\n",
    "def randSex():\n",
    "  flag = random.randint(0,1)\n",
    "  if flag == 0:\n",
    "    return \"남\"\n",
    "  else :\n",
    "    return \"여\"\n",
    "def PhoneNumber():\n",
    "    middle = str(random.randint(0,9999))\n",
    "    last = str(random.randint(0,9999))\n",
    "    while len(middle) != 4 :\n",
    "        temp = str(random.randint(10**(3-len(middle)),10**(4-len(middle))))\n",
    "        if len(temp) == 4-len(middle) :\n",
    "            middle += temp\n",
    "            break\n",
    "        else :\n",
    "            continue\n",
    "    while len(last) != 4:\n",
    "        temp = str(random.randint(10**(3-len(last)),10**(4-len(last))))\n",
    "        if len(temp) == 4-len(last) :\n",
    "            last += temp\n",
    "            break\n",
    "        else :\n",
    "            continue\n",
    "    return \"010-\" + middle+ \"-\" + last\n",
    "\n",
    "namevalues = [\"이름\", \"나이\", \"성별\", \"휴대폰 번호\", \"주소\", \"가족관계\"]\n",
    "namevalues2 = [\"이름\", \"나이\", \"성별\", \"휴대폰 번호\", \"주소\", \"가족관계\"]\n",
    "namelist = [ {\"이름\": randName(),\"나이\" : randOld(),\"성별\" :randSex(),\"휴대폰 번호\": PhoneNumber(),\"주소\": randAddress(), \"가족관계\": randfamily() } for i in range(100)]\n",
    "df = pd.DataFrame(namelist)"
   ]
  },
  {
   "cell_type": "code",
   "execution_count": 319,
   "metadata": {},
   "outputs": [
    {
     "name": "stdout",
     "output_type": "stream",
     "text": [
      "['이름', '나이', '성별', '휴대폰 번호', '주소', '가족관계']\n",
      "     이름  나이 성별         휴대폰 번호         주소  가족관계\n",
      "0   성욱더  59  여  010-2531-7375  부산광역시 연제구  2남1녀\n",
      "1    엄덕  85  남  010-7806-7430   경상남도 함안군  1남1녀\n",
      "2   하서악  45  여  010-3086-5802   충청북도 충주시  실부실모\n",
      "3   오운흥  78  남  010-3690-6311   경상남도 거제시  1남1녀\n",
      "4   함복추  74  여  010-9478-1007    경기도 여주군  1남1녀\n",
      "..  ...  .. ..            ...        ...   ...\n",
      "95   이한  86  여  010-9953-1071   경상북도 청도군  1남2녀\n",
      "96   송숭  80  남  010-7144-5118   경상남도 밀양시  외동아들\n",
      "97  한섭옥  43  여  010-8939-2617   충청북도 충주시  1남2녀\n",
      "98   방사  74  여  010-3493-4437    경기도 이천시   외동딸\n",
      "99   방빈  71  여  010-3320-9981   부산광역시 남구   다자녀\n",
      "\n",
      "[100 rows x 6 columns]\n",
      "엄덕\n"
     ]
    }
   ],
   "source": [
    "print(namevalues)\n",
    "print(df)\n",
    "print(df.iloc[1, 0])"
   ]
  },
  {
   "cell_type": "code",
   "execution_count": 320,
   "metadata": {},
   "outputs": [],
   "source": [
    "def findsameAddress(): # 만약 주소를 이용하여 재식별이 가능하게 될 경우 주소 전체를 상위개념(서울 특별시 중구 -> 서울 특별시)으로 변환시켜야 하나 판단함\n",
    "                       # (우선은 2개이상 같은 경우만 포함시켰는데 특정 칼럼에 한정해도 괜찮을듯함) , 데이터가 적을 경우 필요할듯해서 구성\n",
    "    samevalue = 0  # 배열 선언 필요없을지도?\n",
    "    samecheck = df.copy()     # 주소값을 제거한 나머지 칼럼들을 추출하기 위한 용도 \n",
    "    samecheck.drop(['주소'], axis=1, inplace=True)  # 주소값 제거, 이곳에서 필요하다면 성별 등등을 추가로 제거해도 될 듯 함\n",
    "    namevalues.remove('주소') # 이름값을 가져오기 위해 생성한 리스트에서 주소값 제거\n",
    "    print(samecheck)\n",
    "    count = 0 # for문에서 숫자 증감을 위해 선언, C언어랑 달라서 나는 변수증감 이렇게 하는데 다른 방법이 있으면 수정했으면 해\n",
    "    i = 0\n",
    "    while (i < len(samecheck.index)) :\n",
    "        j = 0\n",
    "        samecount = 0 # 중복이 2 이상인 것이 얼마나 존재하는가 카운트\n",
    "        while(j < len(samecheck.columns)) : # 이중 반복문용,,, 전체 열의 갯수만큼 돌아감\n",
    "            value = samecheck.iloc[count,j] # 값을 추출, \n",
    "            overlap = len(df[df[namevalues[j]] == value].index) # 현재 값과 (ex, 이름 전별근,,, 이 얼마나 많이 겹치는가) 겹치는 값들의 갯수 추출\n",
    "            j += 1 # 반복문 값 증가\n",
    "            if overlap > 2 : #같은 값을 포함하는 것이 2개 이상인가?\n",
    "                samevalue += 1 # 같은 값을 포함하는 것이 2개 이상일 때, 이 열의 값은 중복이 된다고 판단,,, 변수하나를 증가시켜 표시함\n",
    "        count += 1\n",
    "        if samevalue > 2 : # 같은 값이 2개이상 존재하는 열이 2개이상 될 경우,,, ex) 성별과 이름이 같은 사람이 둘이상 존재함\n",
    "            break # 반복문 탈출\n",
    "        else :\n",
    "            samevalue = 0 # 같은 값이 2개이상 존재하지 않을 경우 변수값 초기화       \n",
    "            i += 1\n",
    "    if samevalue > 2 :  # 같은 값이 존재하는 열이 2개이상 있을 경우,,,, 주소값을 더 상위분류해야된다고 판단\n",
    "        return 3\n",
    "    else : \n",
    "        return 0\n",
    "    \n",
    "def HighAddress(input) : # 주소값을 더 상위 주소값으로 변환시키기,,, input이 1인 경우만 동작\n",
    "    highlist = ['서울특별시', '충청북도', '충청남도', '제주특별자치도', '전라북도', '전라남도', '인천광역시', '울산광역시', '부산광역시', '대전광역시', '대구광역시', '광주광역시', '경상북도', '경상남도', '경기도', '강원도']\n",
    "    if input == 3 :\n",
    "        changelist = namevalues2.index(\"주소\")\n",
    "        i = 0\n",
    "        while (i < (len(df.index))) :\n",
    "            changeAdd = df.iloc[i,changelist] # 변경할 주소값\n",
    "            if '서울특별시' in changeAdd == True : # 특정 값을 포함할 시 그 상위값으로 변경,,, ex) 서울특별시 용산구 -> 서울 특별시\n",
    "                df.iloc[i,0] = \"서울특별시\"\n",
    "            elif '충청북도' in changeAdd == True :\n",
    "                df.iloc[i,changelist] = \"충청북도\"\n",
    "            elif '충청남도' in changeAdd == True :\n",
    "                df.iloc[i,changelist] = \"충청남도\"\n",
    "            elif '제주특별자치도' in changeAdd == True :\n",
    "                df.iloc[i,changelist] = \"제주특별자치도\"\n",
    "            elif '전라북도' in changeAdd == True :\n",
    "                df.iloc[i,changelist] = \"전라북도\"\n",
    "            elif '전라남도' in changeAdd == True :\n",
    "                df.iloc[i,changelist] = \"전라남도\"\n",
    "            elif '인천광역시' in changeAdd == True :\n",
    "                df.iloc[i,changelist] = \"인천광역시\"\n",
    "            elif '부산광역시' in changeAdd == True :\n",
    "                df.iloc[i,changelist] = \"부산광역시\"\n",
    "            elif '대전광역시' in changeAdd == True :\n",
    "                df.iloc[i,changelist] = \"대전광역시\"\n",
    "            elif '대구광역시' in changeAdd == True :\n",
    "                df.iloc[i,changelist] = \"대구광역시\"\n",
    "            elif '광주광역시' in changeAdd == True :\n",
    "                df.iloc[i,changelist] = \"광주광역시\"\n",
    "            elif '경상북도' in changeAdd == True :\n",
    "                df.iloc[i,changelist] = \"경상북도\"\n",
    "            elif '경상남도' in changeAdd == True :\n",
    "                df.iloc[i,changelist] = \"경상남도\"\n",
    "            elif '경기도' in changeAdd == True :\n",
    "                df.iloc[i,changelist] = \"경기도\"\n",
    "            i += 1\n",
    "        "
   ]
  },
  {
   "cell_type": "code",
   "execution_count": 321,
   "metadata": {},
   "outputs": [
    {
     "name": "stdout",
     "output_type": "stream",
     "text": [
      "     이름  나이 성별         휴대폰 번호  가족관계\n",
      "0   성욱더  59  여  010-2531-7375  2남1녀\n",
      "1    엄덕  85  남  010-7806-7430  1남1녀\n",
      "2   하서악  45  여  010-3086-5802  실부실모\n",
      "3   오운흥  78  남  010-3690-6311  1남1녀\n",
      "4   함복추  74  여  010-9478-1007  1남1녀\n",
      "..  ...  .. ..            ...   ...\n",
      "95   이한  86  여  010-9953-1071  1남2녀\n",
      "96   송숭  80  남  010-7144-5118  외동아들\n",
      "97  한섭옥  43  여  010-8939-2617  1남2녀\n",
      "98   방사  74  여  010-3493-4437   외동딸\n",
      "99   방빈  71  여  010-3320-9981   다자녀\n",
      "\n",
      "[100 rows x 5 columns]\n"
     ]
    },
    {
     "ename": "TypeError",
     "evalue": "'settings1' is an invalid keyword argument for print()",
     "output_type": "error",
     "traceback": [
      "\u001b[1;31m---------------------------------------------------------------------------\u001b[0m",
      "\u001b[1;31mTypeError\u001b[0m                                 Traceback (most recent call last)",
      "\u001b[1;32m<ipython-input-321-93af18c1c816>\u001b[0m in \u001b[0;36m<module>\u001b[1;34m\u001b[0m\n\u001b[1;32m----> 1\u001b[1;33m \u001b[0mprint\u001b[0m\u001b[1;33m(\u001b[0m\u001b[0msettings1\u001b[0m \u001b[1;33m=\u001b[0m \u001b[0mfindsameAddress\u001b[0m\u001b[1;33m(\u001b[0m\u001b[1;33m)\u001b[0m\u001b[1;33m)\u001b[0m\u001b[1;33m\u001b[0m\u001b[1;33m\u001b[0m\u001b[0m\n\u001b[0m\u001b[0;32m      2\u001b[0m \u001b[0mHighAddress\u001b[0m\u001b[1;33m(\u001b[0m\u001b[1;36m3\u001b[0m\u001b[1;33m)\u001b[0m\u001b[1;33m\u001b[0m\u001b[1;33m\u001b[0m\u001b[0m\n\u001b[0;32m      3\u001b[0m \u001b[0mprint\u001b[0m\u001b[1;33m(\u001b[0m\u001b[0mdf\u001b[0m\u001b[1;33m)\u001b[0m\u001b[1;33m\u001b[0m\u001b[1;33m\u001b[0m\u001b[0m\n",
      "\u001b[1;31mTypeError\u001b[0m: 'settings1' is an invalid keyword argument for print()"
     ]
    }
   ],
   "source": [
    "print(settings1 = findsameAddress())\n",
    "HighAddress(3)\n",
    "print(df)"
   ]
  },
  {
   "cell_type": "code",
   "execution_count": 309,
   "metadata": {},
   "outputs": [
    {
     "name": "stdout",
     "output_type": "stream",
     "text": [
      "울산광역시 북구\n"
     ]
    }
   ],
   "source": [
    "print(df.iloc[0,(namevalues2.index(\"주소\"))])"
   ]
  },
  {
   "cell_type": "code",
   "execution_count": 310,
   "metadata": {},
   "outputs": [
    {
     "name": "stdout",
     "output_type": "stream",
     "text": [
      "4\n"
     ]
    }
   ],
   "source": [
    "print(namevalues2.index(\"주소\"))"
   ]
  },
  {
   "cell_type": "code",
   "execution_count": 311,
   "metadata": {},
   "outputs": [
    {
     "name": "stdout",
     "output_type": "stream",
     "text": [
      "울산광역시 북구\n"
     ]
    }
   ],
   "source": [
    "print(df.iloc[0,namevalues2.index(\"주소\")])"
   ]
  }
 ],
 "metadata": {
  "kernelspec": {
   "display_name": "Python 3",
   "language": "python",
   "name": "python3"
  },
  "language_info": {
   "codemirror_mode": {
    "name": "ipython",
    "version": 3
   },
   "file_extension": ".py",
   "mimetype": "text/x-python",
   "name": "python",
   "nbconvert_exporter": "python",
   "pygments_lexer": "ipython3",
   "version": "3.8.3"
  }
 },
 "nbformat": 4,
 "nbformat_minor": 4
}
