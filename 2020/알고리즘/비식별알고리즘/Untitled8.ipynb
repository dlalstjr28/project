{
 "cells": [
  {
   "cell_type": "code",
   "execution_count": null,
   "metadata": {},
   "outputs": [],
   "source": [
    "def K_anonymity(dataframe, number):\n",
    "        try:\n",
    "            number = int(number) ## 만약 숫자를 입력하지 않는  다면 예외처리!\n",
    "        except NameError:\n",
    "            print(\"Input number value!\")\n",
    "            pass\n",
    "        list = ['주소','나이','성별'] ## 우리가 처리할 준식별정보\n",
    "        ## list 는 준식별 정보를 담기 위해 for 문 사용 권장\n",
    "        dataframe['count'] = dataframe.groupby(list)[list[0]].transform('size') ## list[0]으로 최소 칼럼 보장.\n",
    "        dataframe = dataframe.loc[dataframe['count']>=number] # k 보다 높거나 같은 size만 추출함.\n",
    "        dataframe_index = dataframe.index ## 인덱스가 초기화 되므로 일련번호 저장\n",
    "        print(dataframe['count'])\n",
    "        del dataframe['count']\n",
    "        dataframe = dataframe.set_index(dataframe_index)\n",
    "        return dataframe"
   ]
  },
  {
   "cell_type": "code",
   "execution_count": null,
   "metadata": {},
   "outputs": [],
   "source": [
    "K_anonymity(df,3)"
   ]
  },
  {
   "cell_type": "code",
   "execution_count": null,
   "metadata": {},
   "outputs": [],
   "source": [
    "def L_diverge(dataframe, number,column):\n",
    "        try:\n",
    "            number = int(number) ## 만약 숫자를 입력하지 않는  다면 예외처리!\n",
    "        except NameError:\n",
    "            print(\"Input number value!\")\n",
    "            pass\n",
    "        list = ['주소','나이','성별'] ## 우리가 처리할 준식별정보\n",
    "        ## list 는 민감 정보를 처리하기 위해 준식별 정보를 담아야함\n",
    "        dataframe['count'] = dataframe.groupby(list)[column].transform('nunique') ## column으로 구분해서 민감정보 갯수확인\n",
    "        dataframe = dataframe.loc[dataframe['count']>=number] # k 보다 높거나 같은 size만 추출함.\n",
    "        dataframe_index = dataframe.index ## 인덱스가 초기화 되므로 일련번호 저장\n",
    "        print(dataframe['count'])\n",
    "        del dataframe['count']\n",
    "        dataframe = dataframe.set_index(dataframe_index)\n",
    "        return dataframe"
   ]
  },
  {
   "cell_type": "code",
   "execution_count": null,
   "metadata": {},
   "outputs": [],
   "source": [
    "L_diverge(df,11734,'전년도 누적금액')"
   ]
  }
 ],
 "metadata": {
  "kernelspec": {
   "display_name": "Python 3",
   "language": "python",
   "name": "python3"
  },
  "language_info": {
   "codemirror_mode": {
    "name": "ipython",
    "version": 3
   },
   "file_extension": ".py",
   "mimetype": "text/x-python",
   "name": "python",
   "nbconvert_exporter": "python",
   "pygments_lexer": "ipython3",
   "version": "3.8.3"
  }
 },
 "nbformat": 4,
 "nbformat_minor": 4
}
