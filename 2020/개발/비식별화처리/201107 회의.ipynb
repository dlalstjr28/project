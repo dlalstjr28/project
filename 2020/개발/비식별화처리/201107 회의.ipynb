{
 "cells": [
  {
   "cell_type": "markdown",
   "metadata": {},
   "source": [
    "오늘 회의 내용"
   ]
  },
  {
   "cell_type": "markdown",
   "metadata": {},
   "source": [
    "-- 고쳐야되는 거 --\n",
    "1. 라운딩, 총계처리 class로 몰고 >> 나랑 종근이함\n",
    "   삭제 저장 안됨, 부분삭제 작동 안됨 >> 소민이가 해주고\n",
    "\n",
    "2. 순열, 범주화, + 샘플링 임시 구현 >> 샘플링은 알고리즘팀이 조사해준다고 했고\n",
    "\n",
    "3. 브르투포싱 완료\n",
    "ISO 기준으로 점수를 합산해서 높은 안전성의 방법 찾기 >> test.ipy 기준으로 3x3x3x3이니까 81가지 경우 중에 제일 높게 안전성이 평가된 점수로\n",
    "\n",
    "4. KLT 적용하고\n",
    "\n",
    "5. 자동화 & 비식별 기술 구체적 구현"
   ]
  },
  {
   "cell_type": "code",
   "execution_count": null,
   "metadata": {},
   "outputs": [],
   "source": []
  },
  {
   "cell_type": "code",
   "execution_count": null,
   "metadata": {},
   "outputs": [],
   "source": [
    "-- 민감 정보 --\n",
    "K, L, T 대신 K, L, log 2를 사용해서 분포를 나타낼 수 있다.\n",
    "안전성을 ISO/IEC 및 K, L, log 2 중 1개로 안전성을 정하자\n",
    "-- 민감정보 --\n",
    "민감정보에 대해 value_counts() 하면\n",
    "값1 => 몇개\n",
    "값2 => 몇개\n",
    "이런식으로 나옴\n",
    "\n",
    "이 데이터에 대해서 apply(lambda x : x/y * math.log(y/x, 2) 뭐 이런식으로 하고\n",
    "그 값들을 sum()하면 최대값.\n",
    "각 값들이 높을수록 분포가 적절하게 되어있다\n",
    "각 값들이 낮을수록 분포가 적절하지 않다.\n",
    "\n",
    "log2인 기준 : 섀넌의 엔트로피"
   ]
  },
  {
   "cell_type": "code",
   "execution_count": null,
   "metadata": {},
   "outputs": [],
   "source": []
  },
  {
   "cell_type": "code",
   "execution_count": null,
   "metadata": {},
   "outputs": [],
   "source": [
    "-- code --\n",
    "df['전년도 누적금액'].value_counts()\n",
    "y = df['전년도 누적금액'].count()\n",
    "z = (df['전년도 누적금액'].value_counts().apply(lambda x : (x/y)*math.log((y/x),2))).sum()\n",
    "z\n"
   ]
  },
  {
   "cell_type": "code",
   "execution_count": null,
   "metadata": {},
   "outputs": [],
   "source": []
  }
 ],
 "metadata": {
  "kernelspec": {
   "display_name": "Python 3",
   "language": "python",
   "name": "python3"
  },
  "language_info": {
   "codemirror_mode": {
    "name": "ipython",
    "version": 3
   },
   "file_extension": ".py",
   "mimetype": "text/x-python",
   "name": "python",
   "nbconvert_exporter": "python",
   "pygments_lexer": "ipython3",
   "version": "3.8.3"
  }
 },
 "nbformat": 4,
 "nbformat_minor": 4
}
