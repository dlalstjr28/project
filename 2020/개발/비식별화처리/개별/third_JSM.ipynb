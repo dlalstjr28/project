{
 "cells": [
  {
   "cell_type": "code",
   "execution_count": null,
   "metadata": {},
   "outputs": [],
   "source": [
    "# 파일 불러와서 (비식별 전) 화면에 출력까지 됨\n",
    "# 총계처리 시도중\n",
    "# 선택하면 1로 바꿈"
   ]
  },
  {
   "cell_type": "code",
   "execution_count": 1,
   "metadata": {},
   "outputs": [],
   "source": [
    "import pandas as pd\n",
    "import numpy as np\n",
    "import random\n",
    "import sys\n",
    "import pandas as pd #import csv\n",
    "from PyQt5.QtWidgets import QApplication, QWidget, QPushButton, QGridLayout, QFileDialog, QLabel\n",
    "from PyQt5.QtWidgets import *\n",
    "from PyQt5.QtGui import *\n",
    "from PyQt5 import uic, QtGui"
   ]
  },
  {
   "cell_type": "code",
   "execution_count": 2,
   "metadata": {},
   "outputs": [],
   "source": [
    "def masking(self,column,direction,number):           #(데이터프레임, 처리할 칼럼, 남겨둘 정보의 위치, 남겨둘 정보의 개수)\n",
    "    self.backup = self[column]\n",
    "    before_data=self.loc[:,column]                   #columns 가져오기\n",
    "    \n",
    "    after = self.astype({column : 'object'})           #columns 데이터 타입 변경\n",
    "    \n",
    "    for i in range(len(before_data.index)):\n",
    "        string = str(before_data.iloc[i])\n",
    "        length = len(string)                  #전체 문자 길이 구하기\n",
    "        m_length = length - number            #마스킹할 문자 길이 구하기\n",
    "        \n",
    "        if number > length:                                                           #남겨둘 문자의 길이가 전체 문자길이보다 작을 경우 \n",
    "            string = string.replace(string[:],\"*\"*length)                             # ex) 전체 문자길이=2, 남겨둘 문자=4이면 전체 문자길이가 더 작아 마스킹이 안되므로 전체 마스킹처리\n",
    "        \n",
    "        if direction == 'right':              #남겨둘 정보(마스킹하지 않을 정보)의 위치=오른쪽\n",
    "            if number <= length:                                                      #남겨둘 문자의 길이가 전체 문자길이보다 작을 경우\n",
    "                string = string.replace(string[:-number],\"*\"*m_length)             #남겨둘 문자를 제외한 모든 문자 \"*\"로 마스킹처리\n",
    "                \n",
    "        elif direction == 'left':             #남겨둘 정보(마스킹하지 않을 정보)의 위치=왼쪽\n",
    "            if number <= length:\n",
    "                string = string.replace(string[number:],\"*\"*m_length)                  #남겨둘 문자를 제외한 모든 문자 \"*\"로 마스킹처리\n",
    "        after.at[i,column] = string\n",
    "        \n",
    "    return after            "
   ]
  },
  {
   "cell_type": "code",
   "execution_count": null,
   "metadata": {},
   "outputs": [],
   "source": [
    "form_class = uic.loadUiType(\"third_JSM.ui\")[0]\n",
    "\n",
    "#화면을 띄우는데 사용되는 Class 선언\n",
    "class WindowClass(QMainWindow, form_class) :    \n",
    "    def __init__(self) :\n",
    "        super().__init__()\n",
    "        self.setupUi(self)\n",
    "        \n",
    "        # 로고 이미지\n",
    "        qPixmapVar = QPixmap()\n",
    "        qPixmapVar.load(\"logo2.jpg\")\n",
    "        self.Logo.setPixmap(qPixmapVar)\n",
    "        \n",
    "        self.open_button.clicked.connect(self.open_file) # open_button 클릭 관련\n",
    "        self.start_button.clicked.connect(self.start) # '비식별 처리' start 버튼 클릭 곤련\n",
    "        self.save_button.clicked.connect(self.save_file) # save_button 클릭 관련\n",
    "        self.masking_button.clicked.connect(self.Masking) # '비식별 처리' Masking 버튼 클릭 곤련\n",
    "        \n",
    "    def open_file(self) : # 파일 불러오기\n",
    "        open_name = QFileDialog.getOpenFileName(self, 'Open File', './')        \n",
    "        data = pd.read_csv(open_name[0], encoding='euc-kr')\n",
    "        \n",
    "        global after # 비식별 처리 후 데이터를 저장할 전역변수 after\n",
    "        after = data\n",
    "        \n",
    "        # table_1 widget 행, 열 추가\n",
    "        self.table_1.setRowCount(len(data))\n",
    "        self.table_1.setColumnCount(len(list(data)))\n",
    "        self.table_1.setHorizontalHeaderLabels(list(data))\n",
    "\n",
    "        # table_1 widget에 불러온 파일의 데이터 추가\n",
    "        for i in range (len(data)) :\n",
    "            for j in range (len(list(data))) :\n",
    "                self.table_1.setItem(i, j, QTableWidgetItem(format(data.values.tolist()[i][j])))\n",
    "    \n",
    "    def start(self) : # 임시 총계처리 평균\n",
    "        row = self.table_1.currentRow()\n",
    "        column = self.table_1.currentColumn()\n",
    "        \n",
    "        after[after.columns[column]] = after[after.columns[column]].mean() # 선택한 열 평균으로 총계처리\n",
    "        \n",
    "        for i in range (len(after)) :\n",
    "            self.table_1.setItem(i, column, QTableWidgetItem(format(after.values.tolist()[i][column]))) # 비식별한 열 출력\n",
    "   \n",
    "    def Masking(self) :  # 마스킹 처리\n",
    "        row = self.table_1.currentRow()\n",
    "        column = self.table_1.currentColumn()\n",
    "        tmp = masking(after,after.columns[column],'left',2)\n",
    "        \n",
    "        for i in range (len(tmp)) :\n",
    "            self.table_1.setItem(i, column, QTableWidgetItem(format(tmp.values.tolist()[i][column]))) # 비식별한 열 출력\n",
    "            \n",
    "\n",
    "    def save_file(self) : # 비식별처리 후 파일 저장\n",
    "        save_name = QFileDialog.getSaveFileName(self, 'Open File', './')\n",
    "        after.to_csv(save_name[0], encoding='euc-kr', index=False)\n",
    "        \n",
    "if __name__ == \"__main__\" :\n",
    "    app = QApplication(sys.argv) \n",
    "    myWindow = WindowClass() \n",
    "    myWindow.show()\n",
    "    app.exec_()"
   ]
  },
  {
   "cell_type": "code",
   "execution_count": null,
   "metadata": {},
   "outputs": [],
   "source": []
  },
  {
   "cell_type": "code",
   "execution_count": null,
   "metadata": {},
   "outputs": [],
   "source": []
  }
 ],
 "metadata": {
  "kernelspec": {
   "display_name": "Python 3",
   "language": "python",
   "name": "python3"
  },
  "language_info": {
   "codemirror_mode": {
    "name": "ipython",
    "version": 3
   },
   "file_extension": ".py",
   "mimetype": "text/x-python",
   "name": "python",
   "nbconvert_exporter": "python",
   "pygments_lexer": "ipython3",
   "version": "3.8.3"
  }
 },
 "nbformat": 4,
 "nbformat_minor": 4
}
