{
 "cells": [
  {
   "cell_type": "code",
   "execution_count": 2,
   "metadata": {},
   "outputs": [],
   "source": [
    "# 파일 불러와서 (비식별 전) 화면에 출력까지 됨\n",
    "# 총계처리 시도중\n",
    "# 선택하면 1로 바꿈"
   ]
  },
  {
   "cell_type": "code",
   "execution_count": null,
   "metadata": {},
   "outputs": [
    {
     "ename": "UnboundLocalError",
     "evalue": "local variable 'loc' referenced before assignment",
     "output_type": "error",
     "traceback": [
      "\u001b[1;31m---------------------------------------------------------------------------\u001b[0m",
      "\u001b[1;31mUnboundLocalError\u001b[0m                         Traceback (most recent call last)",
      "\u001b[1;32m<ipython-input-1-d5f9a3d316ba>\u001b[0m in \u001b[0;36madd\u001b[1;34m(self)\u001b[0m\n\u001b[0;32m     58\u001b[0m     \u001b[0mjob\u001b[0m \u001b[1;33m=\u001b[0m \u001b[1;36m0\u001b[0m\u001b[1;33m\u001b[0m\u001b[1;33m\u001b[0m\u001b[0m\n\u001b[0;32m     59\u001b[0m     \u001b[1;32mdef\u001b[0m \u001b[0madd\u001b[0m\u001b[1;33m(\u001b[0m\u001b[0mself\u001b[0m\u001b[1;33m)\u001b[0m\u001b[1;33m:\u001b[0m\u001b[1;33m\u001b[0m\u001b[1;33m\u001b[0m\u001b[0m\n\u001b[1;32m---> 60\u001b[1;33m         \u001b[0mloc\u001b[0m \u001b[1;33m=\u001b[0m \u001b[0mloc\u001b[0m \u001b[1;33m+\u001b[0m \u001b[1;36m1\u001b[0m\u001b[1;33m\u001b[0m\u001b[1;33m\u001b[0m\u001b[0m\n\u001b[0m\u001b[0;32m     61\u001b[0m         \u001b[1;31m#self.text.setText(loc)\u001b[0m\u001b[1;33m\u001b[0m\u001b[1;33m\u001b[0m\u001b[1;33m\u001b[0m\u001b[0m\n\u001b[0;32m     62\u001b[0m         \u001b[1;32mreturn\u001b[0m \u001b[0mloc\u001b[0m\u001b[1;33m\u001b[0m\u001b[1;33m\u001b[0m\u001b[0m\n",
      "\u001b[1;31mUnboundLocalError\u001b[0m: local variable 'loc' referenced before assignment"
     ]
    },
    {
     "ename": "UnboundLocalError",
     "evalue": "local variable 'loc' referenced before assignment",
     "output_type": "error",
     "traceback": [
      "\u001b[1;31m---------------------------------------------------------------------------\u001b[0m",
      "\u001b[1;31mUnboundLocalError\u001b[0m                         Traceback (most recent call last)",
      "\u001b[1;32m<ipython-input-1-d5f9a3d316ba>\u001b[0m in \u001b[0;36mminor\u001b[1;34m(self)\u001b[0m\n\u001b[0;32m     63\u001b[0m \u001b[1;33m\u001b[0m\u001b[0m\n\u001b[0;32m     64\u001b[0m     \u001b[1;32mdef\u001b[0m \u001b[0mminor\u001b[0m\u001b[1;33m(\u001b[0m\u001b[0mself\u001b[0m\u001b[1;33m)\u001b[0m\u001b[1;33m:\u001b[0m\u001b[1;33m\u001b[0m\u001b[1;33m\u001b[0m\u001b[0m\n\u001b[1;32m---> 65\u001b[1;33m         \u001b[0mloc\u001b[0m \u001b[1;33m=\u001b[0m \u001b[0mloc\u001b[0m \u001b[1;33m-\u001b[0m \u001b[1;36m1\u001b[0m\u001b[1;33m\u001b[0m\u001b[1;33m\u001b[0m\u001b[0m\n\u001b[0m\u001b[0;32m     66\u001b[0m         \u001b[1;31m#self.text.setText(loc)\u001b[0m\u001b[1;33m\u001b[0m\u001b[1;33m\u001b[0m\u001b[1;33m\u001b[0m\u001b[0m\n\u001b[0;32m     67\u001b[0m         \u001b[1;32mreturn\u001b[0m \u001b[0mloc\u001b[0m\u001b[1;33m\u001b[0m\u001b[1;33m\u001b[0m\u001b[0m\n",
      "\u001b[1;31mUnboundLocalError\u001b[0m: local variable 'loc' referenced before assignment"
     ]
    }
   ],
   "source": [
    "import sys\n",
    "import pandas as pd #import csv\n",
    "from PyQt5.QtWidgets import QApplication, QWidget, QPushButton, QGridLayout, QFileDialog, QLabel\n",
    "from PyQt5.QtWidgets import *\n",
    "from PyQt5.QtGui import *\n",
    "from PyQt5 import uic, QtGui\n",
    "import math\n",
    "\n",
    "form_class = uic.loadUiType(\"third_jg_test.ui\")[0]\n",
    "\n",
    "#화면을 띄우는데 사용되는 Class 선언\n",
    "class WindowClass(QMainWindow, form_class) :    \n",
    "    def __init__(self) :\n",
    "        super().__init__()\n",
    "        self.setupUi(self)\n",
    "        \n",
    "        # 로고 이미지\n",
    "        qPixmapVar = QPixmap()\n",
    "        qPixmapVar.load(\"logo2.jpg\")\n",
    "        self.Logo.setPixmap(qPixmapVar)\n",
    "        \n",
    "        self.open_button.clicked.connect(self.open_file) # open_button 클릭 관련\n",
    "        self.start_button.clicked.connect(self.start) # '비식별 처리' start 버튼 클릭 곤련\n",
    "        self.save_button.clicked.connect(self.save_file) # save_button 클릭 관련\n",
    "        self.JG_test_button.clicked.connect(self.Routing) # '비식별 처리 ' 라우팅\n",
    "        self.JG_test_add.clicked.connect(self.add) # ++\n",
    "        self.JG_test_min.clicked.connect(self.minor) # --\n",
    "        \n",
    "    def open_file(self) : # 파일 불러오기\n",
    "        open_name = QFileDialog.getOpenFileName(self, 'Open File', './')        \n",
    "        data = pd.read_csv(open_name[0], encoding='utf-8')\n",
    "        \n",
    "        global after # 비식별 처리 후 데이터를 저장할 전역변수 after\n",
    "        after = data\n",
    "        \n",
    "        # table_1 widget 행, 열 추가\n",
    "        self.table_1.setRowCount(len(data))\n",
    "        self.table_1.setColumnCount(len(list(data)))\n",
    "        self.table_1.setHorizontalHeaderLabels(list(data))\n",
    "\n",
    "        # table_1 widget에 불러온 파일의 데이터 추가\n",
    "        for i in range (len(data)) :\n",
    "            for j in range (len(list(data))) :\n",
    "                self.table_1.setItem(i, j, QTableWidgetItem(format(data.values.tolist()[i][j])))\n",
    "    \n",
    "    def start(self) : # 임시 총계처리 평균\n",
    "        row = self.table_1.currentRow()\n",
    "        column = self.table_1.currentColumn()\n",
    "        \n",
    "        after[after.columns[column]] = after[after.columns[column]].mean() # 선택한 열 평균으로 총계처리\n",
    "        \n",
    "        for i in range (len(after)) :\n",
    "            self.table_1.setItem(i, column, QTableWidgetItem(format(after.values.tolist()[i][column]))) # 비식별한 열 출력\n",
    "    \n",
    "    #라우팅 처리 \n",
    "    global loc\n",
    "    loc = 0\n",
    "    job = 0\n",
    "    def add(self):\n",
    "        loc = loc + 1\n",
    "        #self.text.setText(loc)\n",
    "        return loc\n",
    "    \n",
    "    def minor(self):\n",
    "        loc = loc - 1\n",
    "        #self.text.setText(loc)\n",
    "        return loc\n",
    "   \n",
    "    def Routing(self,job):\n",
    "        row = self.table_1.currentRow()\n",
    "        column = self.table_1.currentColumn()\n",
    "        \n",
    "\n",
    "        if job==0:#반올림\n",
    "            after[after.columns[column]] = round(after[after.columns[column]], -1)   \n",
    "            for i in range (len(after)) :\n",
    "                self.table_1.setItem(i, column, QTableWidgetItem(format(after.values.tolist()[i][column]))) # 비식별한 열 출력\n",
    "        elif job==1:#올림\n",
    "            after[after.columns[column]] = math.ceil(after[after.columns[column]], -1)\n",
    "        elif job==2:#내림\n",
    "            after[after.columns[column]] = math.floor(after[after.columns[column]], -1)\n",
    "        \n",
    "    \n",
    "    def save_file(self) : # 비식별처리 후 파일 저장\n",
    "        save_name = QFileDialog.getSaveFileName(self, 'Open File', './')\n",
    "        after.to_csv(save_name[0], encoding='utf-8', index=False)\n",
    "        \n",
    "if __name__ == \"__main__\" :\n",
    "    app = QApplication(sys.argv) \n",
    "    myWindow = WindowClass() \n",
    "    myWindow.show()\n",
    "    app.exec_()"
   ]
  },
  {
   "cell_type": "code",
   "execution_count": null,
   "metadata": {},
   "outputs": [],
   "source": []
  }
 ],
 "metadata": {
  "kernelspec": {
   "display_name": "Python 3",
   "language": "python",
   "name": "python3"
  },
  "language_info": {
   "codemirror_mode": {
    "name": "ipython",
    "version": 3
   },
   "file_extension": ".py",
   "mimetype": "text/x-python",
   "name": "python",
   "nbconvert_exporter": "python",
   "pygments_lexer": "ipython3",
   "version": "3.8.3"
  }
 },
 "nbformat": 4,
 "nbformat_minor": 4
}
