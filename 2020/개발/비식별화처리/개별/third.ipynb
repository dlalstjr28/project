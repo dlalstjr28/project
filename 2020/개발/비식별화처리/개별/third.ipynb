{
 "cells": [
  {
   "cell_type": "code",
   "execution_count": 1,
   "metadata": {},
   "outputs": [],
   "source": [
    "# 파일 불러와서 (비식별 전) 화면에 출력까지 됨\n",
    "# 총계처리 시도중\n",
    "# 선택하면 1로 바꿈"
   ]
  },
  {
   "cell_type": "code",
   "execution_count": 2,
   "metadata": {},
   "outputs": [],
   "source": [
    "import sys\n",
    "import pandas as pd #import csv\n",
    "from PyQt5.QtWidgets import QApplication, QWidget, QPushButton, QGridLayout, QFileDialog, QLabel\n",
    "from PyQt5.QtWidgets import *\n",
    "from PyQt5.QtGui import *\n",
    "from PyQt5 import uic, QtGui\n",
    "\n",
    "form_class = uic.loadUiType(\"third.ui\")[0]\n",
    "\n",
    "#화면을 띄우는데 사용되는 Class 선언\n",
    "class WindowClass(QMainWindow, form_class) :    \n",
    "    def __init__(self) :\n",
    "        super().__init__()\n",
    "        self.setupUi(self)\n",
    "        \n",
    "        # 로고 이미지\n",
    "        qPixmapVar = QPixmap()\n",
    "        qPixmapVar.load(\"logo2.jpg\")\n",
    "        self.Logo.setPixmap(qPixmapVar)\n",
    "        \n",
    "        self.open_button.clicked.connect(self.open_file) # open_button 클릭 관련\n",
    "        self.start_button.clicked.connect(self.start) # '비식별 처리' start 버튼 클릭 곤련\n",
    "        self.save_button.clicked.connect(self.save_file) # save_button 클릭 관련\n",
    "        \n",
    "    def open_file(self) : # 파일 불러오기\n",
    "        open_name = QFileDialog.getOpenFileName(self, 'Open File', './')        \n",
    "        data = pd.read_csv(open_name[0], encoding='utf-8')\n",
    "        \n",
    "        global after # 비식별 처리 후 데이터를 저장할 전역변수 after\n",
    "        after = data\n",
    "        \n",
    "        # table_1 widget 행, 열 추가\n",
    "        self.table_1.setRowCount(len(data))\n",
    "        self.table_1.setColumnCount(len(list(data)))\n",
    "        self.table_1.setHorizontalHeaderLabels(list(data))\n",
    "\n",
    "        # table_1 widget에 불러온 파일의 데이터 추가\n",
    "        for i in range (len(data)) :\n",
    "            for j in range (len(list(data))) :\n",
    "                self.table_1.setItem(i, j, QTableWidgetItem(format(data.values.tolist()[i][j])))\n",
    "    \n",
    "    def start(self) : # 임시 총계처리 평균\n",
    "        row = self.table_1.currentRow()\n",
    "        column = self.table_1.currentColumn()\n",
    "        \n",
    "        after[after.columns[column]] = after[after.columns[column]].mean() # 선택한 열 평균으로 총계처리\n",
    "        \n",
    "        for i in range (len(after)) :\n",
    "            self.table_1.setItem(i, column, QTableWidgetItem(format(after.values.tolist()[i][column]))) # 비식별한 열 출력\n",
    "        \n",
    "    def save_file(self) : # 비식별처리 후 파일 저장\n",
    "        save_name = QFileDialog.getSaveFileName(self, 'Open File', './')\n",
    "        after.to_csv(save_name[0], encoding='utf-8', index=False)\n",
    "        \n",
    "if __name__ == \"__main__\" :\n",
    "    app = QApplication(sys.argv) \n",
    "    myWindow = WindowClass() \n",
    "    myWindow.show()\n",
    "    app.exec_()"
   ]
  },
  {
   "cell_type": "code",
   "execution_count": null,
   "metadata": {},
   "outputs": [],
   "source": []
  }
 ],
 "metadata": {
  "kernelspec": {
   "display_name": "Python 3",
   "language": "python",
   "name": "python3"
  },
  "language_info": {
   "codemirror_mode": {
    "name": "ipython",
    "version": 3
   },
   "file_extension": ".py",
   "mimetype": "text/x-python",
   "name": "python",
   "nbconvert_exporter": "python",
   "pygments_lexer": "ipython3",
   "version": "3.7.4"
  }
 },
 "nbformat": 4,
 "nbformat_minor": 4
}
