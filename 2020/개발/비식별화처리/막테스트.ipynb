{
 "cells": [
  {
   "cell_type": "code",
   "execution_count": 1,
   "metadata": {},
   "outputs": [],
   "source": [
    "import pandas as pd\n",
    "import math\n",
    "import numpy as np\n",
    "from scipy.stats import norm\n",
    "from numpy import dot\n",
    "from numpy.linalg import norm\n",
    "import datetime\n",
    "import random\n",
    "\n",
    "global after"
   ]
  },
  {
   "cell_type": "code",
   "execution_count": 29,
   "metadata": {},
   "outputs": [],
   "source": [
    "df = pd.read_csv('dataset.csv', encoding='utf-8')"
   ]
  },
  {
   "cell_type": "markdown",
   "metadata": {},
   "source": [
    "수치형 유용성 테스트 4개"
   ]
  },
  {
   "cell_type": "code",
   "execution_count": 5,
   "metadata": {},
   "outputs": [],
   "source": [
    "def mean_attr(X,Y,Z): # U1 : Mean Attribute (10%) # 평균값의 차이\n",
    "    # 낮을수록 좋다\n",
    "    # x=df1, y=df2, z=column\n",
    "    a = X[Z][0]\n",
    "    try:\n",
    "            a == int(a) ## 만약 숫자를 입력하지 않는  다면 예외처리!\n",
    "    except ValueError:\n",
    "            print(\"Input number value!\")\n",
    "            pass\n",
    "            return\n",
    "        \n",
    "    meanDiff=X[Z].mean()-Y[Z].mean()\n",
    "    return abs(meanDiff)"
   ]
  },
  {
   "cell_type": "code",
   "execution_count": 6,
   "metadata": {},
   "outputs": [
    {
     "ename": "NameError",
     "evalue": "name 'df2' is not defined",
     "output_type": "error",
     "traceback": [
      "\u001b[1;31m---------------------------------------------------------------------------\u001b[0m",
      "\u001b[1;31mNameError\u001b[0m                                 Traceback (most recent call last)",
      "\u001b[1;32m<ipython-input-6-2d3129a56433>\u001b[0m in \u001b[0;36m<module>\u001b[1;34m\u001b[0m\n\u001b[1;32m----> 1\u001b[1;33m \u001b[0mprint\u001b[0m\u001b[1;33m(\u001b[0m\u001b[0mmean_attr\u001b[0m\u001b[1;33m(\u001b[0m\u001b[0mdf\u001b[0m\u001b[1;33m,\u001b[0m\u001b[0mdf2\u001b[0m\u001b[1;33m,\u001b[0m\u001b[1;34m'age'\u001b[0m\u001b[1;33m)\u001b[0m\u001b[1;33m)\u001b[0m\u001b[1;33m\u001b[0m\u001b[1;33m\u001b[0m\u001b[0m\n\u001b[0m",
      "\u001b[1;31mNameError\u001b[0m: name 'df2' is not defined"
     ]
    }
   ],
   "source": [
    "print(mean_attr(df,df2,'age'))"
   ]
  },
  {
   "cell_type": "code",
   "execution_count": 7,
   "metadata": {},
   "outputs": [
    {
     "name": "stdout",
     "output_type": "stream",
     "text": [
      "0.0\n"
     ]
    }
   ],
   "source": [
    "print(mean_attr(df,df,'age'))"
   ]
  },
  {
   "cell_type": "code",
   "execution_count": 8,
   "metadata": {},
   "outputs": [],
   "source": [
    "def mean_corr(X,Y,Z): # U2 : Mean Correlation (10%)\n",
    "    # 1에 가까울수록 좋음\n",
    "    # x=df1, y=df2, z=column\n",
    "    a = X[Z][0] ## 데이터 하나를 추출하여 int형으로 강제 형변환 한것과 비교,,, 같은 경우 정수형으로 보고 인식\n",
    "    try:\n",
    "            a == int(a) ## 만약 숫자를 입력하지 않는  다면 예외처리!\n",
    "    except ValueError: ## 값이 일치하지 않을 경우\n",
    "            print(\"Input number value!\") ## 에러메세지 출력\n",
    "            pass\n",
    "            return ## NULL 값 반환(아무것도 반환 안함)\n",
    "    df_corr = pd.DataFrame({'x': X[Z], 'y': Y[Z]}) ## KL과정을 거치기 전 df X와 거친 후 Y의 Z열(KL처리를 한 항목) 값을 받아서 데이터프레임 생성\n",
    "    print(df_corr.corr(method='pearson'))\n",
    "    meanCorr=df_corr.corr(method='pearson') ## 피어슨 상관계수 계산 (df 자체적으로 돌아감)\n",
    "    return abs(meanCorr.iloc[0,1]) ## 피어슨 상관계수 값 추출 0,1 즉 서로 다른 열을 계산한 값을 출력함,,,, 아래의 출력창 참고"
   ]
  },
  {
   "cell_type": "code",
   "execution_count": 9,
   "metadata": {},
   "outputs": [
    {
     "ename": "NameError",
     "evalue": "name 'df2' is not defined",
     "output_type": "error",
     "traceback": [
      "\u001b[1;31m---------------------------------------------------------------------------\u001b[0m",
      "\u001b[1;31mNameError\u001b[0m                                 Traceback (most recent call last)",
      "\u001b[1;32m<ipython-input-9-d80d90a0d09b>\u001b[0m in \u001b[0;36m<module>\u001b[1;34m\u001b[0m\n\u001b[1;32m----> 1\u001b[1;33m \u001b[0mmean_corr\u001b[0m\u001b[1;33m(\u001b[0m\u001b[0mdf\u001b[0m\u001b[1;33m,\u001b[0m \u001b[0mdf2\u001b[0m\u001b[1;33m,\u001b[0m \u001b[1;34m'age'\u001b[0m\u001b[1;33m)\u001b[0m\u001b[1;33m\u001b[0m\u001b[1;33m\u001b[0m\u001b[0m\n\u001b[0m",
      "\u001b[1;31mNameError\u001b[0m: name 'df2' is not defined"
     ]
    }
   ],
   "source": [
    "mean_corr(df, df2, 'age')"
   ]
  },
  {
   "cell_type": "code",
   "execution_count": 10,
   "metadata": {},
   "outputs": [
    {
     "name": "stdout",
     "output_type": "stream",
     "text": [
      "     x    y\n",
      "x  1.0  1.0\n",
      "y  1.0  1.0\n"
     ]
    },
    {
     "data": {
      "text/plain": [
       "1.0"
      ]
     },
     "execution_count": 10,
     "metadata": {},
     "output_type": "execute_result"
    }
   ],
   "source": [
    "mean_corr(df, df, 'age')"
   ]
  },
  {
   "cell_type": "code",
   "execution_count": 11,
   "metadata": {},
   "outputs": [],
   "source": [
    "def cos_sim(X, Y, Z): # U3 : Cosine Similarity (10%)\n",
    "    # x=df1, y=df2, z=column\n",
    "    a = X[Z][0]\n",
    "    try:\n",
    "            a == int(a) ## 만약 숫자를 입력하지 않는  다면 예외처리!\n",
    "    except ValueError:\n",
    "            print(\"Input number value!\")\n",
    "            pass\n",
    "            return\n",
    "    meanSim = dot(X[Z],Y[Z])/(norm(X[Z])*norm(Y[Z]))    \n",
    "    return meanSim"
   ]
  },
  {
   "cell_type": "code",
   "execution_count": 12,
   "metadata": {},
   "outputs": [],
   "source": [
    "def info_loss(X, Y): # U4 : Information Loss (15%)\n",
    "    # 미완\n",
    "    # X.shape = Y.shape\n",
    "    total = 0\n",
    "    value = 0\n",
    "    for i in range(len(Y.index)): # total 산출\n",
    "        for j in range(len(Y.columns)):\n",
    "            value=abs(X.iloc[i,j]-Y.iloc[i,j])/abs(X.iloc[i,j])\n",
    "            total+=value \n",
    "    return total/len(Y.columns)*len(Y.index)"
   ]
  },
  {
   "cell_type": "code",
   "execution_count": 13,
   "metadata": {},
   "outputs": [
    {
     "ename": "NameError",
     "evalue": "name 'b' is not defined",
     "output_type": "error",
     "traceback": [
      "\u001b[1;31m---------------------------------------------------------------------------\u001b[0m",
      "\u001b[1;31mNameError\u001b[0m                                 Traceback (most recent call last)",
      "\u001b[1;32m<ipython-input-13-68ac4b04a5cc>\u001b[0m in \u001b[0;36m<module>\u001b[1;34m\u001b[0m\n\u001b[1;32m----> 1\u001b[1;33m \u001b[0mcos_sim\u001b[0m\u001b[1;33m(\u001b[0m\u001b[0mb\u001b[0m\u001b[1;33m,\u001b[0m \u001b[0mc\u001b[0m\u001b[1;33m,\u001b[0m \u001b[1;34m'age'\u001b[0m\u001b[1;33m)\u001b[0m\u001b[1;33m\u001b[0m\u001b[1;33m\u001b[0m\u001b[0m\n\u001b[0m",
      "\u001b[1;31mNameError\u001b[0m: name 'b' is not defined"
     ]
    }
   ],
   "source": [
    "cos_sim(b, c, 'age')"
   ]
  },
  {
   "cell_type": "markdown",
   "metadata": {},
   "source": [
    "문자열 유용성 2개"
   ]
  },
  {
   "cell_type": "code",
   "execution_count": null,
   "metadata": {},
   "outputs": [],
   "source": [
    "def Jaccard_similarity(doc1, doc2):\n",
    "    # 높을수록 좋음\n",
    "    doc1 = set(doc1)\n",
    "    print('doc1 : ', doc1)\n",
    "    doc2 = set(doc2)\n",
    "    print('doc2 : ', doc2)\n",
    "    print('return len(doc1 & doc2) / len(doc1 | doc2) : ', len(doc1 & doc2) / len(doc1 | doc2))\n",
    "    return len(doc1 & doc2) / len(doc1 | doc2)"
   ]
  },
  {
   "cell_type": "code",
   "execution_count": null,
   "metadata": {},
   "outputs": [],
   "source": [
    "def levenshtein(s1, s2, debug=False):\n",
    "    # 작을수록 좋음\n",
    "    if len(s1) < len(s2):\n",
    "        return levenshtein(s2, s1, debug)\n",
    "\n",
    "    if len(s2) == 0:\n",
    "        return len(s1)\n",
    "\n",
    "    previous_row = range(len(s2) + 1)\n",
    "    for i, c1 in enumerate(s1):\n",
    "        current_row = [i + 1]\n",
    "        for j, c2 in enumerate(s2):\n",
    "            insertions = previous_row[j + 1] + 1\n",
    "            deletions = current_row[j] + 1\n",
    "            substitutions = previous_row[j] + (c1 != c2)\n",
    "            current_row.append(min(insertions, deletions, substitutions))\n",
    "\n",
    "        if debug:\n",
    "            print(current_row[1:])\n",
    "\n",
    "        previous_row = current_row\n",
    "\n",
    "    return previous_row[-1]"
   ]
  },
  {
   "cell_type": "code",
   "execution_count": null,
   "metadata": {},
   "outputs": [],
   "source": [
    "Jaccard_similarity('012345678','프린트를 보고싶다')"
   ]
  },
  {
   "cell_type": "code",
   "execution_count": null,
   "metadata": {},
   "outputs": [],
   "source": [
    "levenshtein('NAH', '우리는 아직 배고프다', debug=False)"
   ]
  },
  {
   "cell_type": "code",
   "execution_count": null,
   "metadata": {},
   "outputs": [],
   "source": [
    "cos_sim(a, b, 'age')"
   ]
  },
  {
   "cell_type": "code",
   "execution_count": null,
   "metadata": {},
   "outputs": [],
   "source": [
    "Jaccard_similarity(a['sex'], b['sex'])"
   ]
  },
  {
   "cell_type": "code",
   "execution_count": null,
   "metadata": {},
   "outputs": [],
   "source": [
    "sum=0\n",
    "for i in a.columns : \n",
    "    sum+=levenshtein(a[i], b[i], debug=False)"
   ]
  },
  {
   "cell_type": "code",
   "execution_count": null,
   "metadata": {},
   "outputs": [],
   "source": [
    "sum/len(a.columns) ## 바뀐 준식별자 리스트 길이"
   ]
  },
  {
   "cell_type": "code",
   "execution_count": null,
   "metadata": {},
   "outputs": [],
   "source": [
    "df"
   ]
  },
  {
   "cell_type": "code",
   "execution_count": 30,
   "metadata": {},
   "outputs": [
    {
     "name": "stdout",
     "output_type": "stream",
     "text": [
      "True\n"
     ]
    },
    {
     "data": {
      "text/plain": [
       "0     (22.962, 30.6]\n",
       "1       (30.6, 38.2]\n",
       "2       (30.6, 38.2]\n",
       "3       (30.6, 38.2]\n",
       "4     (22.962, 30.6]\n",
       "5     (22.962, 30.6]\n",
       "6       (30.6, 38.2]\n",
       "7       (53.4, 61.0]\n",
       "8       (45.8, 53.4]\n",
       "9       (30.6, 38.2]\n",
       "10      (45.8, 53.4]\n",
       "11    (22.962, 30.6]\n",
       "12      (53.4, 61.0]\n",
       "13      (53.4, 61.0]\n",
       "14    (22.962, 30.6]\n",
       "15      (38.2, 45.8]\n",
       "16      (38.2, 45.8]\n",
       "17      (38.2, 45.8]\n",
       "18      (45.8, 53.4]\n",
       "19      (45.8, 53.4]\n",
       "Name: age, dtype: category\n",
       "Categories (5, interval[float64]): [(22.962, 30.6] < (30.6, 38.2] < (38.2, 45.8] < (45.8, 53.4] < (53.4, 61.0]]"
      ]
     },
     "execution_count": 30,
     "metadata": {},
     "output_type": "execute_result"
    }
   ],
   "source": [
    "# category 중앙값 계산\n",
    "df\n",
    "a= pd.cut(df['age'],5)\n",
    "b = (str(a[0]).strip('(]').split(', ')[0])\n",
    "try :\n",
    "    float(b)\n",
    "    print('True')\n",
    "except ValueError :\n",
    "    pass\n",
    "a"
   ]
  },
  {
   "cell_type": "code",
   "execution_count": 31,
   "metadata": {},
   "outputs": [],
   "source": [
    "df['age'] =df['age'].astype('str')"
   ]
  },
  {
   "cell_type": "code",
   "execution_count": 32,
   "metadata": {},
   "outputs": [
    {
     "data": {
      "text/plain": [
       "0     27\n",
       "1     34\n",
       "2     35\n",
       "3     36\n",
       "4     28\n",
       "5     24\n",
       "6     36\n",
       "7     54\n",
       "8     50\n",
       "9     36\n",
       "10    51\n",
       "11    29\n",
       "12    61\n",
       "13    55\n",
       "14    23\n",
       "15    40\n",
       "16    39\n",
       "17    44\n",
       "18    51\n",
       "19    47\n",
       "Name: age, dtype: object"
      ]
     },
     "execution_count": 32,
     "metadata": {},
     "output_type": "execute_result"
    }
   ],
   "source": [
    "df['age']"
   ]
  },
  {
   "cell_type": "code",
   "execution_count": 28,
   "metadata": {},
   "outputs": [
    {
     "data": {
      "text/plain": [
       "0     26.781\n",
       "1     34.400\n",
       "2     34.400\n",
       "3     34.400\n",
       "4     26.781\n",
       "5     26.781\n",
       "6     34.400\n",
       "7     57.200\n",
       "8     49.600\n",
       "9     34.400\n",
       "10    49.600\n",
       "11    26.781\n",
       "12    57.200\n",
       "13    57.200\n",
       "14    26.781\n",
       "15    42.000\n",
       "16    42.000\n",
       "17    42.000\n",
       "18    49.600\n",
       "19    49.600\n",
       "Name: age, dtype: category\n",
       "Categories (5, float64): [26.781 < 34.400 < 42.000 < 49.600 < 57.200]"
      ]
     },
     "execution_count": 28,
     "metadata": {},
     "output_type": "execute_result"
    }
   ],
   "source": [
    "a.apply(lambda x : (float(str(x).strip('(]').split(', ')[0])+ float(str(x).strip('(]').split(', ')[1]) )/2)"
   ]
  },
  {
   "cell_type": "code",
   "execution_count": 25,
   "metadata": {},
   "outputs": [],
   "source": [
    "df['age'] = pd.cut(df['age'],5)"
   ]
  },
  {
   "cell_type": "code",
   "execution_count": 26,
   "metadata": {},
   "outputs": [
    {
     "data": {
      "text/plain": [
       "0     (22.962, 30.6]\n",
       "1       (30.6, 38.2]\n",
       "2       (30.6, 38.2]\n",
       "3       (30.6, 38.2]\n",
       "4     (22.962, 30.6]\n",
       "5     (22.962, 30.6]\n",
       "6       (30.6, 38.2]\n",
       "7       (53.4, 61.0]\n",
       "8       (45.8, 53.4]\n",
       "9       (30.6, 38.2]\n",
       "10      (45.8, 53.4]\n",
       "11    (22.962, 30.6]\n",
       "12      (53.4, 61.0]\n",
       "13      (53.4, 61.0]\n",
       "14    (22.962, 30.6]\n",
       "15      (38.2, 45.8]\n",
       "16      (38.2, 45.8]\n",
       "17      (38.2, 45.8]\n",
       "18      (45.8, 53.4]\n",
       "19      (45.8, 53.4]\n",
       "Name: age, dtype: category\n",
       "Categories (5, interval[float64]): [(22.962, 30.6] < (30.6, 38.2] < (38.2, 45.8] < (45.8, 53.4] < (53.4, 61.0]]"
      ]
     },
     "execution_count": 26,
     "metadata": {},
     "output_type": "execute_result"
    }
   ],
   "source": [
    "df['age']"
   ]
  },
  {
   "cell_type": "code",
   "execution_count": 17,
   "metadata": {},
   "outputs": [
    {
     "data": {
      "text/plain": [
       "0     0\n",
       "1     0\n",
       "2     0\n",
       "3     0\n",
       "4     0\n",
       "5     0\n",
       "6     0\n",
       "7     0\n",
       "8     0\n",
       "9     0\n",
       "10    0\n",
       "11    0\n",
       "12    0\n",
       "13    0\n",
       "14    0\n",
       "15    0\n",
       "16    0\n",
       "17    0\n",
       "18    0\n",
       "19    0\n",
       "Name: age, dtype: int64"
      ]
     },
     "execution_count": 17,
     "metadata": {},
     "output_type": "execute_result"
    }
   ],
   "source": [
    "df['age'].apply(lambda x : 0)"
   ]
  },
  {
   "cell_type": "code",
   "execution_count": 20,
   "metadata": {},
   "outputs": [
    {
     "data": {
      "text/plain": [
       "0     (22.962, 30.6]\n",
       "1       (30.6, 38.2]\n",
       "2       (30.6, 38.2]\n",
       "3       (30.6, 38.2]\n",
       "4     (22.962, 30.6]\n",
       "5     (22.962, 30.6]\n",
       "6       (30.6, 38.2]\n",
       "7       (53.4, 61.0]\n",
       "8       (45.8, 53.4]\n",
       "9       (30.6, 38.2]\n",
       "10      (45.8, 53.4]\n",
       "11    (22.962, 30.6]\n",
       "12      (53.4, 61.0]\n",
       "13      (53.4, 61.0]\n",
       "14    (22.962, 30.6]\n",
       "15      (38.2, 45.8]\n",
       "16      (38.2, 45.8]\n",
       "17      (38.2, 45.8]\n",
       "18      (45.8, 53.4]\n",
       "19      (45.8, 53.4]\n",
       "Name: age, dtype: category\n",
       "Categories (5, interval[float64]): [(22.962, 30.6] < (30.6, 38.2] < (38.2, 45.8] < (45.8, 53.4] < (53.4, 61.0]]"
      ]
     },
     "execution_count": 20,
     "metadata": {},
     "output_type": "execute_result"
    }
   ],
   "source": [
    "df['age']"
   ]
  },
  {
   "cell_type": "code",
   "execution_count": 33,
   "metadata": {},
   "outputs": [
    {
     "ename": "TypeError",
     "evalue": "data type \"category\" not understood",
     "output_type": "error",
     "traceback": [
      "\u001b[1;31m---------------------------------------------------------------------------\u001b[0m",
      "\u001b[1;31mTypeError\u001b[0m                                 Traceback (most recent call last)",
      "\u001b[1;32m<ipython-input-33-7d7a2b800ada>\u001b[0m in \u001b[0;36m<module>\u001b[1;34m\u001b[0m\n\u001b[1;32m----> 1\u001b[1;33m \u001b[1;32mif\u001b[0m \u001b[0mdf\u001b[0m\u001b[1;33m[\u001b[0m\u001b[1;34m'age'\u001b[0m\u001b[1;33m]\u001b[0m\u001b[1;33m.\u001b[0m\u001b[0mdtype\u001b[0m \u001b[1;33m==\u001b[0m \u001b[1;34m'category'\u001b[0m \u001b[1;33m:\u001b[0m\u001b[1;33m\u001b[0m\u001b[1;33m\u001b[0m\u001b[0m\n\u001b[0m\u001b[0;32m      2\u001b[0m     \u001b[0mprint\u001b[0m\u001b[1;33m(\u001b[0m\u001b[1;34m'1'\u001b[0m\u001b[1;33m)\u001b[0m\u001b[1;33m\u001b[0m\u001b[1;33m\u001b[0m\u001b[0m\n",
      "\u001b[1;31mTypeError\u001b[0m: data type \"category\" not understood"
     ]
    }
   ],
   "source": [
    "if df['age'].dtype == 'category' :\n",
    "    print('1')"
   ]
  },
  {
   "cell_type": "code",
   "execution_count": null,
   "metadata": {},
   "outputs": [],
   "source": []
  }
 ],
 "metadata": {
  "kernelspec": {
   "display_name": "Python 3",
   "language": "python",
   "name": "python3"
  },
  "language_info": {
   "codemirror_mode": {
    "name": "ipython",
    "version": 3
   },
   "file_extension": ".py",
   "mimetype": "text/x-python",
   "name": "python",
   "nbconvert_exporter": "python",
   "pygments_lexer": "ipython3",
   "version": "3.8.3"
  }
 },
 "nbformat": 4,
 "nbformat_minor": 4
}
