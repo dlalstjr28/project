{
 "cells": [
  {
   "cell_type": "code",
   "execution_count": null,
   "metadata": {},
   "outputs": [],
   "source": [
    "import os, sys\n",
    "from PyQt5.QtWidgets import QApplication, QWidget, QPushButton, QGridLayout, QFileDialog, QLabel\n",
    "from PyQt5.QtWidgets import *\n",
    "from PyQt5.QtGui import *\n",
    "from PyQt5 import uic\n",
    "\n",
    "#UI파일 연결\n",
    "#단, UI파일은 Python 코드 파일과 같은 디렉토리에 위치해야한다.\n",
    "form_class = uic.loadUiType(\"first.ui\")[0]\n",
    "\n",
    "#화면을 띄우는데 사용되는 Class 선언\n",
    "class WindowClass(QMainWindow, form_class) :    \n",
    "    def __init__(self) :\n",
    "        super().__init__()\n",
    "        self.setupUi(self)\n",
    "        \n",
    "        qPixmapVar = QPixmap()\n",
    "        qPixmapVar.load(\"logo2.jpg\")\n",
    "        self.Logo.setPixmap(qPixmapVar)\n",
    "        \n",
    "        self.open_button.clicked.connect(self.open_file)\n",
    "        self.save_button.clicked.connect(self.save_file)\n",
    "        \n",
    "    def open_file(self) :\n",
    "        file_name = QFileDialog.getOpenFileName(self, 'Open File', os.getenv('HOME'))\n",
    "        \n",
    "    def save_file(self) :\n",
    "        file_name = QFileDialog.getOpenFileName(self, 'Open File', os.getenv('HOME'))\n",
    "        \"\"\"\n",
    "        PushButton  => self.버튼이름.clicked.connect(함수)\n",
    "        RadioButton => self.Radio버튼이름.clicked.connect(함수)\n",
    "        CheckBox    => self.체크박스이름.stateChanged.connect(함수)\n",
    "        Label       => .text() => 글자를 가져옴\n",
    "                       .setText(String) => 새롭게 String이라는 글자를 작성\n",
    "                       .clear() => 글자를 지움\n",
    "        TextBrowser => .toPlainText() => 글자를 가져옴\n",
    "                       .setPlainText(String) => 새롭게 String이라는 글자를 작성\n",
    "                       .append(String) => 다음줄에 String이라는 글자 추가\n",
    "                       .claer() => 글자룰 지움\n",
    "        \n",
    "        \"\"\"\n",
    "\n",
    "if __name__ == \"__main__\" :\n",
    "    app = QApplication(sys.argv) \n",
    "    myWindow = WindowClass() \n",
    "    myWindow.show()\n",
    "    app.exec_()"
   ]
  }
 ],
 "metadata": {
  "kernelspec": {
   "display_name": "Python 3",
   "language": "python",
   "name": "python3"
  },
  "language_info": {
   "codemirror_mode": {
    "name": "ipython",
    "version": 3
   },
   "file_extension": ".py",
   "mimetype": "text/x-python",
   "name": "python",
   "nbconvert_exporter": "python",
   "pygments_lexer": "ipython3",
   "version": "3.8.3"
  }
 },
 "nbformat": 4,
 "nbformat_minor": 4
}
