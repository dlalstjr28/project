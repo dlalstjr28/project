{
 "cells": [
  {
   "cell_type": "markdown",
   "metadata": {},
   "source": [
    "### https://github.com/joke2k/faker"
   ]
  },
  {
   "cell_type": "code",
   "execution_count": 32,
   "metadata": {},
   "outputs": [
    {
     "name": "stdout",
     "output_type": "stream",
     "text": [
      "Requirement already satisfied: Faker in c:\\users\\dgd\\anaconda3\\lib\\site-packages (4.1.3)\n",
      "Requirement already satisfied: python-dateutil>=2.4 in c:\\users\\dgd\\anaconda3\\lib\\site-packages (from Faker) (2.8.1)\n",
      "Requirement already satisfied: text-unidecode==1.3 in c:\\users\\dgd\\anaconda3\\lib\\site-packages (from Faker) (1.3)\n",
      "Requirement already satisfied: six>=1.5 in c:\\users\\dgd\\anaconda3\\lib\\site-packages (from python-dateutil>=2.4->Faker) (1.15.0)\n",
      "Note: you may need to restart the kernel to use updated packages.\n"
     ]
    }
   ],
   "source": [
    "pip install Faker"
   ]
  },
  {
   "cell_type": "code",
   "execution_count": 33,
   "metadata": {},
   "outputs": [],
   "source": [
    "from scipy.stats import norm"
   ]
  },
  {
   "cell_type": "code",
   "execution_count": 34,
   "metadata": {},
   "outputs": [],
   "source": [
    "import numpy as np"
   ]
  },
  {
   "cell_type": "code",
   "execution_count": 35,
   "metadata": {},
   "outputs": [],
   "source": [
    "import datetime"
   ]
  },
  {
   "cell_type": "code",
   "execution_count": 36,
   "metadata": {},
   "outputs": [],
   "source": [
    "from faker import Faker\n",
    "import random"
   ]
  },
  {
   "cell_type": "code",
   "execution_count": 37,
   "metadata": {},
   "outputs": [],
   "source": [
    "fake = Faker(\"ko_KR\") # 한국어 설정시 몇몇 기능 안됨"
   ]
  },
  {
   "cell_type": "code",
   "execution_count": 38,
   "metadata": {},
   "outputs": [
    {
     "data": {
      "text/plain": [
       "'이예준'"
      ]
     },
     "execution_count": 38,
     "metadata": {},
     "output_type": "execute_result"
    }
   ],
   "source": [
    "fake.name() #이름"
   ]
  },
  {
   "cell_type": "code",
   "execution_count": 39,
   "metadata": {},
   "outputs": [
    {
     "data": {
      "text/plain": [
       "'문우진'"
      ]
     },
     "execution_count": 39,
     "metadata": {},
     "output_type": "execute_result"
    }
   ],
   "source": [
    "fake.name_male() #남자인듯한 이름"
   ]
  },
  {
   "cell_type": "code",
   "execution_count": 40,
   "metadata": {},
   "outputs": [
    {
     "data": {
      "text/plain": [
       "'송경희'"
      ]
     },
     "execution_count": 40,
     "metadata": {},
     "output_type": "execute_result"
    }
   ],
   "source": [
    "fake.name_female() #여자인듯한 이름"
   ]
  },
  {
   "cell_type": "code",
   "execution_count": 41,
   "metadata": {},
   "outputs": [
    {
     "data": {
      "text/plain": [
       "'경기도 수원시 영통구'"
      ]
     },
     "execution_count": 41,
     "metadata": {},
     "output_type": "execute_result"
    }
   ],
   "source": [
    "import random\n",
    "def randAddress():\n",
    "    listing = ['서울특별시 중구', '서울특별시 용산구', '서울특별시 마포구', '서울특별시 강서구', '서울특별시 영등포구', '서울특별시 동작구', '서울특별시 강남구', '서울특별시 송파구', '서울특별시 강동구', '서울특별시 서초구', '서울특별시 중랑구', '서울특별시 성북구', '서울특별시 노원구', '서울특별시 은평구', '서울특별시 양천구', '서울특별시 구로구', '서울특별시 금천구', '서울특별시 종로구', '서울특별시 성동구', '서울특별시 광진구', '서울특별시 동대문구', '서울특별시 강북구', '서울특별시 도봉구', '서울특별시 서대문구', '서울특별시 관악구', '충청북도 청원군', '충청북도 청주시 흥덕구', '충청북도 충주시', '충청북도 진천군', '충청북도 청주시 상당구', '충청북도 음성군', '충청북도 영동군', '충청북도 단양군', '충청북도 청주시 청원구', '충청북도 청주시 서원구', '충청북도 보은군', '충청북도 제천시', '충청북도 옥천군', '충청북도 증평군', '충청북도 괴산군', '충청남도 아산시', '충청남도 당진군', '충청남도 논산시', '충청남도 계룡시', '충청남도 공주시', '충청남도 연기군', '충청남도 홍성군', '충청남도 천안시 동남구', '충청남도 천안시 서북구', '충청남도 천안시', '충청남도 청양군', '충청남도 보령시', '충청남도 서산시', '충청남도 금산군', '충청남도 부여군', '충청남도 예산군', '충청남도 당진시', '충청남도 서천군', '충청남도 태안군', '제주특별자치도 제주시', '제주특별자치도 서귀포시', '전라북도 남원시', '전라북도 장수군', '전라북도 순창군', '전라북도 완주군', '전라북도 전주시 덕진구', '전라북도 전주시 완산구', '전라북도 진안군', '전라북도 임실군', '전라북도 전주시', '전라북도 익산시', '전라북도 김제시', '전라북도 무주군', '전라북도 고창군', '전라북도 부안군', '전라북도 정읍시', '전라북도 군산시', '전라남도 담양군', '전라남도 순천시', '전라남도 영광군', '전라남도 장성군', '전라남도 나주시', '전라남도 강진군', '전라남도 해남군', '전라남도 목포시', '전라남도 여수시', '전라남도 광양시', '전라남도 화순군', '전라남도 구례군', '전라남도 보성군', '전라남도 장흥군', '전라남도 영암군', '전라남도 무안군', '전라남도 함평군', '전라남도 신안군', '전라남도 진도군', '전라남도 곡성군', '전라남도 고흥군', '전라남도 완도군', '인천광역시 남구', '인천광역시 미추홀구', '인천광역시 연수구', '인천광역시 남동구', '인천광역시 중구', '인천광역시 동구', '인천광역시 부평구', '인천광역시 계양구', '인천광역시 서구', '인천광역시 강화군', '울산광역시 울주군', '울산광역시 북구', '울산광역시 중구', '울산광역시 남구', '부산광역시 기장군', '부산광역시 부산진구', '부산광역시 연제구', '부산광역시 동래구', '부산광역시 남구', '부산광역시 북구', '부산광역시 금정구', '부산광역시 강서구', '부산광역시 서구', '부산광역시 동구', '부산광역시 사상구', '부산광역시 해운대구', '부산광역시 수영구', '부산광역시 영도구', '부산광역시 사하구', '대전광역시 유성구', '대전광역시 동구', '대전광역시 대덕구', '대전광역시 서구', '대전광역시 중구', '대구광역시 달성군', '대구광역시 서구', '대구광역시 중구', '대구광역시 남구', '대구광역시 달서구', '대구광역시 동구', '대구광역시 북구', '대구광역시 수성구', '광주광역시 동구', '광주광역시 서구', '광주광역시 북구', '광주광역시 남구', '광주광역시 광산구', '경상북도 고령군', '경상북도 상주시', '경상북도 울진군', '경상북도 포항시 남구', '경상북도 포항시 북구', '경상북도 김천시', '경상북도 포항시', '경상북도 경산시', '경상북도 청도군', '경상북도 청송군', '경상북도 경주시', '경상북도 안동시', '경상북도 구미시', '경상북도 영주시', '경상북도 영천시', '경상북도 성주군', '경상북도 예천군', '경상북도 문경시', '경상북도 영양군', '경상북도 의성군', '경상북도 영덕군', '경상북도 칠곡군', '경상북도 군위군', '경상북도 봉화군', '경상남도 함양군', '경상남도 거창군', '경상남도 합천군', '경상남도 산청군', '경상남도 양산시', '경상남도 함안군', '경상남도 김해시', '경상남도 창원시 진해구', '경상남도 의령군', '경상남도 창녕군', '경상남도 밀양시', '경상남도 창원시 의창구', '경상남도 창원시 성산구', '경상남도 창원시 마산합포구', '경상남도 창원시 마산회원구', '경상남도 창원시', '경상남도 진주시', '경상남도 사천시', '경상남도 거제시', '경상남도 고성군', '경상남도 하동군', '경상남도 통영시', '경상남도 남해군', '경기도 여주군', '경기도 부천시 원미구', '경기도 부천시 소사구', '경기도 부천시 오정구', '경기도 평택시', '경기도 시흥시', '경기도 오산시', '경기도 김포시', '경기도 이천시', '경기도 안산시 단원구', '경기도 수원시 팔달구', '경기도 용인시 처인구', '경기도 화성시', '경기도 안성시', '경기도 수원시 권선구', '경기도 광주시', '경기도 성남시', '경기도 성남시 중원구', '경기도 안양시 동안구', '경기도 부천시', '경기도 고양시 일산서구', '경기도 과천시', '경기도 남양주시', '경기도 고양시 덕양구', '경기도 가평군', '경기도 수원시 장안구', '경기도 수원시 영통구', '경기도 용인시 기흥구', '경기도 수원시', '경기도 성남시 수정구', '경기도 성남시 분당구', '경기도 의정부시', '경기도 안양시', '경기도 안양시 만안구', '경기도 파주시', '경기도 광명시', '경기도 동두천시', '경기도 안산시 상록구', '경기도 고양시 일산동구', '경기도 의왕시', '경기도 하남시', '경기도 용인시 수지구', '경기도 용인시', '경기도 여주시', '경기도 양주시', '경기도 포천시', '경기도 연천군', '경기도 양평군', '경기도 안산시', '경기도 구리시', '경기도 군포시', '강원도 원주시', '강원도 삼척시', '강원도 영월군', '강원도 강릉시', '강원도 동해시', '강원도 태백시', '강원도 속초시', '강원도 홍천군', '강원도 횡성군', '강원도 평창군', '강원도 정선군', '강원도 철원군', '강원도 화천군', '강원도 양구군', '강원도 인제군', '강원도 고성군', '강원도 양양군', '강원도 춘천시']\n",
    "    return listing[random.randint(0,len(listing)-1)]\n",
    "randAddress()"
   ]
  },
  {
   "cell_type": "code",
   "execution_count": 42,
   "metadata": {},
   "outputs": [
    {
     "data": {
      "text/plain": [
       "'044-633-3545'"
      ]
     },
     "execution_count": 42,
     "metadata": {},
     "output_type": "execute_result"
    }
   ],
   "source": [
    "fake.phone_number() #핸드폰번호\n",
    "#첫자리가 010 외에 02, 016, 018, 043 같은 숫자도 나옴\n",
    "#두번째자리가 4자리가 아니고 3자리일때가 있음"
   ]
  },
  {
   "cell_type": "code",
   "execution_count": 43,
   "metadata": {},
   "outputs": [
    {
     "name": "stdout",
     "output_type": "stream",
     "text": [
      "['052', '625', '8176']\n",
      "010-6256-8176\n"
     ]
    }
   ],
   "source": [
    "phone_number = fake.phone_number().split('-')\n",
    "print(phone_number)\n",
    "phone_number[0] = '010' # 핸드폰 첫자리가 02, 016 등을 모두 010으로 강제 고정\n",
    "if len(phone_number[1]) == 3 :\n",
    "    phone_number[1] = phone_number[1] + str(random.randrange(10))\n",
    "phone_number = '-'.join(phone_number)\n",
    "print(phone_number)"
   ]
  },
  {
   "cell_type": "code",
   "execution_count": 44,
   "metadata": {},
   "outputs": [
    {
     "data": {
      "text/plain": [
       "69"
      ]
     },
     "execution_count": 44,
     "metadata": {},
     "output_type": "execute_result"
    }
   ],
   "source": [
    "fake.pyint(min_value=20, max_value=80) # 나이. min_value 이상 max_value 이하 범위"
   ]
  },
  {
   "cell_type": "code",
   "execution_count": 45,
   "metadata": {},
   "outputs": [
    {
     "data": {
      "text/plain": [
       "{'job': '생명과학 연구원',\n",
       " 'company': '(유) 김',\n",
       " 'ssn': '850227-1583632',\n",
       " 'residence': '울산광역시 용산구 테헤란778가',\n",
       " 'current_location': (Decimal('84.3059365'), Decimal('143.895247')),\n",
       " 'blood_group': 'O+',\n",
       " 'website': ['https://jusighoesa.kr/',\n",
       "  'https://www.ju.kr/',\n",
       "  'http://baegbag.com/',\n",
       "  'https://yu.com/'],\n",
       " 'username': 'jiugim',\n",
       " 'name': '최영일',\n",
       " 'sex': 'M',\n",
       " 'address': '충청남도 파주시 봉은사로 (유진권마을)',\n",
       " 'mail': 'coejiu@hotmail.com',\n",
       " 'birthdate': datetime.date(1961, 8, 29)}"
      ]
     },
     "execution_count": 45,
     "metadata": {},
     "output_type": "execute_result"
    }
   ],
   "source": [
    "fake.profile() #프로필. 딕셔너리 타입"
   ]
  },
  {
   "cell_type": "code",
   "execution_count": 46,
   "metadata": {},
   "outputs": [
    {
     "data": {
      "text/plain": [
       "'금융관련 사무원'"
      ]
     },
     "execution_count": 46,
     "metadata": {},
     "output_type": "execute_result"
    }
   ],
   "source": [
    "fake.profile()['job'] #딕셔너리 키 사용"
   ]
  },
  {
   "cell_type": "code",
   "execution_count": 47,
   "metadata": {},
   "outputs": [
    {
     "data": {
      "text/plain": [
       "'itaque'"
      ]
     },
     "execution_count": 47,
     "metadata": {},
     "output_type": "execute_result"
    }
   ],
   "source": [
    "fake.word() #단어    한글 X ?"
   ]
  },
  {
   "cell_type": "code",
   "execution_count": 48,
   "metadata": {},
   "outputs": [
    {
     "data": {
      "text/plain": [
       "'Aspernatur minima expedita a voluptas debitis. Explicabo itaque similique quia pariatur dolores illum.'"
      ]
     },
     "execution_count": 48,
     "metadata": {},
     "output_type": "execute_result"
    }
   ],
   "source": [
    "fake.text() #긴글    한글 X ?"
   ]
  },
  {
   "cell_type": "code",
   "execution_count": 49,
   "metadata": {},
   "outputs": [
    {
     "data": {
      "text/plain": [
       "'Repellendus praesentium saepe.'"
      ]
     },
     "execution_count": 49,
     "metadata": {},
     "output_type": "execute_result"
    }
   ],
   "source": [
    "fake.sentence() #짧은글 한글 X ?"
   ]
  },
  {
   "cell_type": "code",
   "execution_count": 50,
   "metadata": {},
   "outputs": [],
   "source": [
    "# 매번 바뀌는 데이터 말고 fix를 원하면\n",
    "# fake.seed(1) 이후에\n",
    "# fake.name() 등등 사용"
   ]
  },
  {
   "cell_type": "code",
   "execution_count": 51,
   "metadata": {},
   "outputs": [],
   "source": [
    "def randOld():\n",
    "  rv = norm(loc = 44 , scale = 14)\n",
    "  y = rv.rvs(size=1)\n",
    "  return int(y) ## 65세 이상 13.8 퍼센트 /14세 이상 65세 미만 73.2퍼센트 / 14세 미만 13.1퍼센트    "
   ]
  },
  {
   "cell_type": "code",
   "execution_count": 52,
   "metadata": {},
   "outputs": [],
   "source": [
    "# 예시 데이터 생성\n",
    "\n",
    "import pandas as pd\n",
    "import random\n",
    "from faker import Faker\n",
    "fake = Faker(\"ko_KR\")\n",
    "\n",
    "df = pd.DataFrame(columns=('name'\n",
    "    , 'email'\n",
    "    , 'phone'\n",
    "    , 'age'\n",
    "    , 'sex'\n",
    "    , 'address'\n",
    "    , 'city'))\n",
    "\n",
    "for i in range(10):\n",
    "    stuff = [fake.name()\n",
    "        , fake.email()\n",
    "        , fake.phone_number()\n",
    "        , fake.pyint(min_value=5, max_value=80)\n",
    "        , random.choice(\"FM\")\n",
    "        , fake.address()\n",
    "        , fake.city()]\n",
    "    df.loc[i] = [item for item in stuff]\n",
    "\n",
    "df = df.astype({'age':'int'})"
   ]
  },
  {
   "cell_type": "code",
   "execution_count": 53,
   "metadata": {},
   "outputs": [],
   "source": [
    "def randWeight(df):\n",
    "    weightList=[] # df 항목들의 weight가 쌓일 list\n",
    "    \n",
    "    for i in df.index:\n",
    "        val = df.loc[i] # for문이 실행되는 row \n",
    "        weight = 0 # weight 변수 초기화\n",
    "\n",
    "        if val.sex == \"M\": # 남성일 때\n",
    "            if val.age < 30: # sizeofkorea를 기반으로 나이에 따라 대략적인 평균몸무게 산출\n",
    "                weight = 13/14*val.age+47.8\n",
    "            else: # val.age >= 30:\n",
    "                weight = -3/25*(val.age-30)+76.3\n",
    "\n",
    "        else: # val.sex == \"F\" 여성일 때\n",
    "            if val.age < 20:\n",
    "                weight = 7/4*val.age+91/4\n",
    "            elif val.age < 40:\n",
    "                weight = 4/15*val.age+(149/3)\n",
    "            else: # val.age >= 40:\n",
    "                weight = 0.1*val.age+54\n",
    "\n",
    "        weightList.append(format(weight,\".2f\")) # 산출된 몸무게를 list에 append\n",
    "\n",
    "    df.loc[:,'weight'] = weightList # for문을 통해 산출된 몸무게 리스트를 사용해 \"weight\" column에 추가\n",
    "    \n",
    "    return df"
   ]
  },
  {
   "cell_type": "code",
   "execution_count": 54,
   "metadata": {},
   "outputs": [
    {
     "ename": "SyntaxError",
     "evalue": "invalid syntax (<ipython-input-54-5ac0baf2d9a2>, line 12)",
     "output_type": "error",
     "traceback": [
      "\u001b[1;36m  File \u001b[1;32m\"<ipython-input-54-5ac0baf2d9a2>\"\u001b[1;36m, line \u001b[1;32m12\u001b[0m\n\u001b[1;33m    x1 = x : str(x) if x>= 10 else '0'+str(x)\u001b[0m\n\u001b[1;37m           ^\u001b[0m\n\u001b[1;31mSyntaxError\u001b[0m\u001b[1;31m:\u001b[0m invalid syntax\n"
     ]
    }
   ],
   "source": [
    "def randPort(DataFrame):\n",
    "    df_Port = DataFrame.loc[:,('나이','성별')]   #나이와 성별을 가져옴\n",
    "    now = datetime.datetime.now()\n",
    "    nowyear=int(str(now).split('-')[0])         #현재년도를 가져옴\n",
    "    dataPort = {}\n",
    "    resultlist = []\n",
    "    for i in range(len(df_Port.index)):          #데이터프레임 인덱스 수만큼 반복\n",
    "        year = df_Port.iloc[:,0][i]\n",
    "        sex = df_Port.iloc[:,1][i]\n",
    "        two = nowyear-int(year)-1                #현재년도에서 나이를 빼고 1을 더하여 태어난 년도 구함\n",
    "        x = random.randint(1,12)                 #태어난 달\n",
    "        x1 = lambda x : str(x) if x>= 10 else '0'+str(x)      #태어난 달이 10보다 크면 문자화, 10보다 작으면 앞에 0을 붙여서 문자화\n",
    "        birthday = x1(x)+ x1(random.randint(1,31))            #태어난 달과 날을 합침\n",
    "        flag =0\n",
    "        last = \"\"\n",
    "        while len(last) != 6:                   #뒷번호 성별구별을 제외한 6자리를 구할만큼 반복\n",
    "            temp = str(random.randint(10**(5-len(last)),10**(6-len(last))))\n",
    "            if len(temp) == 6-len(last) :\n",
    "                last += temp\n",
    "                break\n",
    "            else :\n",
    "                continue\n",
    "        if sex == '남자':                #성별구별 남자=1, 여자=2\n",
    "            flag = 1\n",
    "        else :\n",
    "            flag = 2\n",
    "        resultlist.append(str(two)[-2:]+birthday+'-'+str(flag)+last)        #리스트에 생년월일-뒷번호 추가\n",
    "        pd.unique(resultlist).tolist()         #중복값이 있을경우 마지막 중복값을 삭제 후 순서유지\n",
    "        i-=1                        #중복값이 삭제되었을 때 다시 값생성을 위한 i 감소\n",
    "    dataPort['주민등록번호'] = resultlist\n",
    "    Port = pd.DataFrame(dataPort)\n",
    "    return Port"
   ]
  },
  {
   "cell_type": "code",
   "execution_count": 79,
   "metadata": {},
   "outputs": [],
   "source": [
    "def randCredit():\n",
    "    credit_chk_list = [] # 생성된 신용카드 번호 저장 리스트\n",
    "    while True:\n",
    "        credit_num = \"\" #신용카드 번호 \n",
    "        for i in range(4):\n",
    "            for j in range(4):  \n",
    "                credit_num = credit_num + str(random.randint(0, 9))#랜덤으로 0~9 까지 1자리씩 번호 생성 \n",
    "            credit_num = credit_num + '-' # 4자리마다 - 추가\n",
    "        credit_chk_list.append(credit_num[:-1])  #credit_chk_list에 추가하기전 [:-1]로 마지막 '-'를 제외 후 추가\n",
    "        set(credit_chk_list) #신용카드번호 중복 제거 \n",
    "        if(len(credit_chk_list)==100): #중복 제거 후 100000개가 되면 while문 종료\n",
    "            break\n",
    "        else:\n",
    "            continue\n",
    "    return credit_chk_list # 100000개 저장된 리스트 반환"
   ]
  },
  {
   "cell_type": "code",
   "execution_count": 56,
   "metadata": {},
   "outputs": [],
   "source": [
    "def randfamily():\n",
    "    # 고광필\n",
    "    ## 가족관계에 대해서 제작\n",
    "    ## 가족관계에 대한 리스트를 작성 (양부 , 편부 , 3남 1녀 , 첫째 등등)\n",
    "    ## 리스트 작성 후 랜덤 추출로 return\n",
    "    family_list = ['외동딸', '외동아들', '1남1녀', '1남2녀', '2남1녀', '다자녀', '실부실모', '편부', '편모']\n",
    "    return random.choice(family_list)"
   ]
  },
  {
   "cell_type": "code",
   "execution_count": 57,
   "metadata": {},
   "outputs": [],
   "source": [
    "def randOperation(DataFrame):     \n",
    "    dataOP={}\n",
    "    OP_result=[]\n",
    "    OP_list=['폐암', '간암', '대장암', '위암', '췌장암', '패혈증', '당뇨병', '폐렴', '백혈병', '뇌암', '혈관성 치매', '결핵', '우울증', '틱증', '신경증', '정신분열증', '조증','급성위염', '담석증', '위궤양', '충수염', '크론병', '알츠하이머', '수두', '노카르디아증', '홍역', '장티푸스', '콜레라', '야콥병', '무좀', '모닐리아증', '갑상선기증저하증', '고지혈증', '저혈당증', '쿠싱증후군', '간질', '뇌염', '말초신경염', '불면증', '척수염', '파킨슨병', '안면신경마비', '빈혈', '자반', '혈우병', '결장암', '골수종', '뇌종양', '백혈병', '악성후두종양', '호치킨병', '각막염', '결막염', '고막염', '녹내장', '맥립종', '메니에르병', '백내장', '안검염', '헤르페스성각막염', '요도염', '신우신염', '네프로제', '방광염', '신결석', '신부전', '골다공증', '골수염', '골절', '관절염', '디스크', '통풍', '다운증후군', '척추관협착증','요로결석', '뇌출혈', '뇌경색', '심근경색', '유방암']\n",
    "    \n",
    "    W_OP_list=OP_list+['자궁암', '난소종양', '자궁근종', '질염', '내궁내막증', '자궁경부암', '융모상피암', '바톨린염']      #OP_list에 여성질환 추가한 리스트\n",
    "    \n",
    "    M_OP_list=OP_list+['전립선염', '전립선비대증', '전립선암', '부고환 낭종', '고환암', '귀두염', '음낭수종', '페로니병']    #OP_list에 남성질환 추가한 리스트\n",
    "    \n",
    "    df_OP = DataFrame.loc[:,('성별')]        #성별을 가져옴\n",
    "    for i in range(len(df_OP.index)):         #데이터프레임 인덱스 수만큼 반복\n",
    "        sex = df_OP.iloc[i]    \n",
    "        if sex=='여자':\n",
    "             OP_result.append(W_OP_list[random.randint(0,len(W_OP_list)-1)])       #성별이 여자일 경우 W_OP_list에서 랜덤선별하여 OP_result리스트에 추가\n",
    "        else :\n",
    "             OP_result.append(M_OP_list[random.randint(0,len(M_OP_list)-1)])       #성별이 남자일 경우 M_OP_list에서 랜덤선별하여 OP_result리스트에 추가\n",
    "    dataOP['질병기록'] = OP_result\n",
    "    Operation = pd.DataFrame(dataOP)\n",
    "    return Operation\n",
    "    "
   ]
  },
  {
   "cell_type": "code",
   "execution_count": 77,
   "metadata": {},
   "outputs": [
    {
     "ename": "NameError",
     "evalue": "name 'randName' is not defined",
     "output_type": "error",
     "traceback": [
      "\u001b[1;31m---------------------------------------------------------------------------\u001b[0m",
      "\u001b[1;31mNameError\u001b[0m                                 Traceback (most recent call last)",
      "\u001b[1;32m<ipython-input-77-ce648bbb68c9>\u001b[0m in \u001b[0;36m<module>\u001b[1;34m\u001b[0m\n\u001b[1;32m----> 1\u001b[1;33m \u001b[0mnamelist\u001b[0m \u001b[1;33m=\u001b[0m \u001b[1;33m[\u001b[0m \u001b[1;33m{\u001b[0m\u001b[1;34m\"이름\"\u001b[0m\u001b[1;33m:\u001b[0m \u001b[0mrandName\u001b[0m\u001b[1;33m(\u001b[0m\u001b[1;33m)\u001b[0m\u001b[1;33m,\u001b[0m\u001b[1;34m\"나이\"\u001b[0m \u001b[1;33m:\u001b[0m \u001b[0mrandOld\u001b[0m\u001b[1;33m(\u001b[0m\u001b[1;33m)\u001b[0m\u001b[1;33m,\u001b[0m\u001b[1;34m\"성별\"\u001b[0m \u001b[1;33m:\u001b[0m\u001b[0mrandSex\u001b[0m\u001b[1;33m(\u001b[0m\u001b[1;33m)\u001b[0m\u001b[1;33m,\u001b[0m\u001b[1;34m\"휴대폰 번호\"\u001b[0m\u001b[1;33m:\u001b[0m \u001b[0mPhoneNumber\u001b[0m\u001b[1;33m(\u001b[0m\u001b[1;33m)\u001b[0m\u001b[1;33m,\u001b[0m\u001b[1;34m\"주소\"\u001b[0m\u001b[1;33m:\u001b[0m \u001b[0mrandAddress\u001b[0m\u001b[1;33m(\u001b[0m\u001b[1;33m)\u001b[0m\u001b[1;33m}\u001b[0m \u001b[1;32mfor\u001b[0m \u001b[0mi\u001b[0m \u001b[1;32min\u001b[0m \u001b[0mrange\u001b[0m\u001b[1;33m(\u001b[0m\u001b[1;36m100000\u001b[0m\u001b[1;33m)\u001b[0m\u001b[1;33m]\u001b[0m\u001b[1;33m\u001b[0m\u001b[1;33m\u001b[0m\u001b[0m\n\u001b[0m\u001b[0;32m      2\u001b[0m \u001b[0mdf\u001b[0m \u001b[1;33m=\u001b[0m \u001b[0mpd\u001b[0m\u001b[1;33m.\u001b[0m\u001b[0mDataFrame\u001b[0m\u001b[1;33m(\u001b[0m\u001b[0mnamelist\u001b[0m\u001b[1;33m)\u001b[0m\u001b[1;33m\u001b[0m\u001b[1;33m\u001b[0m\u001b[0m\n\u001b[0;32m      3\u001b[0m \u001b[0mdf\u001b[0m \u001b[1;33m=\u001b[0m \u001b[0mpd\u001b[0m\u001b[1;33m.\u001b[0m\u001b[0mconcat\u001b[0m\u001b[1;33m(\u001b[0m\u001b[1;33m[\u001b[0m\u001b[0mdf\u001b[0m\u001b[1;33m,\u001b[0m\u001b[0mrandPort\u001b[0m\u001b[1;33m(\u001b[0m\u001b[0mdf\u001b[0m\u001b[1;33m)\u001b[0m\u001b[1;33m]\u001b[0m\u001b[1;33m,\u001b[0m\u001b[0maxis\u001b[0m\u001b[1;33m=\u001b[0m\u001b[1;36m1\u001b[0m\u001b[1;33m)\u001b[0m\u001b[1;33m\u001b[0m\u001b[1;33m\u001b[0m\u001b[0m\n\u001b[0;32m      4\u001b[0m \u001b[0mdf\u001b[0m \u001b[1;33m=\u001b[0m \u001b[0mpd\u001b[0m\u001b[1;33m.\u001b[0m\u001b[0mconcat\u001b[0m\u001b[1;33m(\u001b[0m\u001b[1;33m[\u001b[0m\u001b[0mdf\u001b[0m\u001b[1;33m,\u001b[0m\u001b[0mrandOperation\u001b[0m\u001b[1;33m(\u001b[0m\u001b[0mdf\u001b[0m\u001b[1;33m)\u001b[0m\u001b[1;33m]\u001b[0m\u001b[1;33m,\u001b[0m\u001b[0maxis\u001b[0m\u001b[1;33m=\u001b[0m\u001b[1;36m1\u001b[0m\u001b[1;33m)\u001b[0m\u001b[1;33m\u001b[0m\u001b[1;33m\u001b[0m\u001b[0m\n\u001b[0;32m      5\u001b[0m \u001b[0mdf\u001b[0m\u001b[1;33m.\u001b[0m\u001b[0mto_csv\u001b[0m\u001b[1;33m(\u001b[0m\u001b[1;34m\"test.csv\"\u001b[0m\u001b[1;33m,\u001b[0m\u001b[0mencoding\u001b[0m\u001b[1;33m=\u001b[0m\u001b[1;34m'euc-kr'\u001b[0m\u001b[1;33m)\u001b[0m\u001b[1;33m\u001b[0m\u001b[1;33m\u001b[0m\u001b[0m\n",
      "\u001b[1;32m<ipython-input-77-ce648bbb68c9>\u001b[0m in \u001b[0;36m<listcomp>\u001b[1;34m(.0)\u001b[0m\n\u001b[1;32m----> 1\u001b[1;33m \u001b[0mnamelist\u001b[0m \u001b[1;33m=\u001b[0m \u001b[1;33m[\u001b[0m \u001b[1;33m{\u001b[0m\u001b[1;34m\"이름\"\u001b[0m\u001b[1;33m:\u001b[0m \u001b[0mrandName\u001b[0m\u001b[1;33m(\u001b[0m\u001b[1;33m)\u001b[0m\u001b[1;33m,\u001b[0m\u001b[1;34m\"나이\"\u001b[0m \u001b[1;33m:\u001b[0m \u001b[0mrandOld\u001b[0m\u001b[1;33m(\u001b[0m\u001b[1;33m)\u001b[0m\u001b[1;33m,\u001b[0m\u001b[1;34m\"성별\"\u001b[0m \u001b[1;33m:\u001b[0m\u001b[0mrandSex\u001b[0m\u001b[1;33m(\u001b[0m\u001b[1;33m)\u001b[0m\u001b[1;33m,\u001b[0m\u001b[1;34m\"휴대폰 번호\"\u001b[0m\u001b[1;33m:\u001b[0m \u001b[0mPhoneNumber\u001b[0m\u001b[1;33m(\u001b[0m\u001b[1;33m)\u001b[0m\u001b[1;33m,\u001b[0m\u001b[1;34m\"주소\"\u001b[0m\u001b[1;33m:\u001b[0m \u001b[0mrandAddress\u001b[0m\u001b[1;33m(\u001b[0m\u001b[1;33m)\u001b[0m\u001b[1;33m}\u001b[0m \u001b[1;32mfor\u001b[0m \u001b[0mi\u001b[0m \u001b[1;32min\u001b[0m \u001b[0mrange\u001b[0m\u001b[1;33m(\u001b[0m\u001b[1;36m100000\u001b[0m\u001b[1;33m)\u001b[0m\u001b[1;33m]\u001b[0m\u001b[1;33m\u001b[0m\u001b[1;33m\u001b[0m\u001b[0m\n\u001b[0m\u001b[0;32m      2\u001b[0m \u001b[0mdf\u001b[0m \u001b[1;33m=\u001b[0m \u001b[0mpd\u001b[0m\u001b[1;33m.\u001b[0m\u001b[0mDataFrame\u001b[0m\u001b[1;33m(\u001b[0m\u001b[0mnamelist\u001b[0m\u001b[1;33m)\u001b[0m\u001b[1;33m\u001b[0m\u001b[1;33m\u001b[0m\u001b[0m\n\u001b[0;32m      3\u001b[0m \u001b[0mdf\u001b[0m \u001b[1;33m=\u001b[0m \u001b[0mpd\u001b[0m\u001b[1;33m.\u001b[0m\u001b[0mconcat\u001b[0m\u001b[1;33m(\u001b[0m\u001b[1;33m[\u001b[0m\u001b[0mdf\u001b[0m\u001b[1;33m,\u001b[0m\u001b[0mrandPort\u001b[0m\u001b[1;33m(\u001b[0m\u001b[0mdf\u001b[0m\u001b[1;33m)\u001b[0m\u001b[1;33m]\u001b[0m\u001b[1;33m,\u001b[0m\u001b[0maxis\u001b[0m\u001b[1;33m=\u001b[0m\u001b[1;36m1\u001b[0m\u001b[1;33m)\u001b[0m\u001b[1;33m\u001b[0m\u001b[1;33m\u001b[0m\u001b[0m\n\u001b[0;32m      4\u001b[0m \u001b[0mdf\u001b[0m \u001b[1;33m=\u001b[0m \u001b[0mpd\u001b[0m\u001b[1;33m.\u001b[0m\u001b[0mconcat\u001b[0m\u001b[1;33m(\u001b[0m\u001b[1;33m[\u001b[0m\u001b[0mdf\u001b[0m\u001b[1;33m,\u001b[0m\u001b[0mrandOperation\u001b[0m\u001b[1;33m(\u001b[0m\u001b[0mdf\u001b[0m\u001b[1;33m)\u001b[0m\u001b[1;33m]\u001b[0m\u001b[1;33m,\u001b[0m\u001b[0maxis\u001b[0m\u001b[1;33m=\u001b[0m\u001b[1;36m1\u001b[0m\u001b[1;33m)\u001b[0m\u001b[1;33m\u001b[0m\u001b[1;33m\u001b[0m\u001b[0m\n\u001b[0;32m      5\u001b[0m \u001b[0mdf\u001b[0m\u001b[1;33m.\u001b[0m\u001b[0mto_csv\u001b[0m\u001b[1;33m(\u001b[0m\u001b[1;34m\"test.csv\"\u001b[0m\u001b[1;33m,\u001b[0m\u001b[0mencoding\u001b[0m\u001b[1;33m=\u001b[0m\u001b[1;34m'euc-kr'\u001b[0m\u001b[1;33m)\u001b[0m\u001b[1;33m\u001b[0m\u001b[1;33m\u001b[0m\u001b[0m\n",
      "\u001b[1;31mNameError\u001b[0m: name 'randName' is not defined"
     ]
    }
   ],
   "source": [
    "namelist = [ {\"이름\": randName(),\"나이\" : randOld(),\"성별\" :randSex(),\"휴대폰 번호\": PhoneNumber(),\"주소\": randAddress()} for i in range(100000)]\n",
    "df = pd.DataFrame(namelist)\n",
    "df = pd.concat([df,randPort(df)],axis=1)       #데이터프레임에 주민번호 열 추가\n",
    "df = pd.concat([df,randOperation(df)],axis=1)  #데이터프레임에 질병기록 열 추가\n",
    "df.to_csv(\"test.csv\",encoding='euc-kr')"
   ]
  },
  {
   "cell_type": "code",
   "execution_count": 82,
   "metadata": {},
   "outputs": [
    {
     "name": "stdout",
     "output_type": "stream",
     "text": [
      "100\n"
     ]
    }
   ],
   "source": [
    "#randCredit test\n",
    "print(len(randCredit())) \n",
    "credit_list =[]\n",
    "credit_list=randCredit()\n",
    "creditlist = [ {\"신용카드번호\": credit_list[i]} for i in range(100)] #range 값을 필요한 만큼 변경하면 됌 \n",
    "df = pd.DataFrame(creditlist)"
   ]
  },
  {
   "cell_type": "code",
   "execution_count": 83,
   "metadata": {},
   "outputs": [
    {
     "data": {
      "text/html": [
       "<div>\n",
       "<style scoped>\n",
       "    .dataframe tbody tr th:only-of-type {\n",
       "        vertical-align: middle;\n",
       "    }\n",
       "\n",
       "    .dataframe tbody tr th {\n",
       "        vertical-align: top;\n",
       "    }\n",
       "\n",
       "    .dataframe thead th {\n",
       "        text-align: right;\n",
       "    }\n",
       "</style>\n",
       "<table border=\"1\" class=\"dataframe\">\n",
       "  <thead>\n",
       "    <tr style=\"text-align: right;\">\n",
       "      <th></th>\n",
       "      <th>신용카드번호</th>\n",
       "    </tr>\n",
       "  </thead>\n",
       "  <tbody>\n",
       "    <tr>\n",
       "      <th>0</th>\n",
       "      <td>6145-0051-9630-7460</td>\n",
       "    </tr>\n",
       "    <tr>\n",
       "      <th>1</th>\n",
       "      <td>4049-1356-8900-1074</td>\n",
       "    </tr>\n",
       "    <tr>\n",
       "      <th>2</th>\n",
       "      <td>8799-2251-3898-6319</td>\n",
       "    </tr>\n",
       "    <tr>\n",
       "      <th>3</th>\n",
       "      <td>6129-1005-0066-9343</td>\n",
       "    </tr>\n",
       "    <tr>\n",
       "      <th>4</th>\n",
       "      <td>2978-1148-9989-1403</td>\n",
       "    </tr>\n",
       "    <tr>\n",
       "      <th>...</th>\n",
       "      <td>...</td>\n",
       "    </tr>\n",
       "    <tr>\n",
       "      <th>95</th>\n",
       "      <td>8587-3171-9072-9820</td>\n",
       "    </tr>\n",
       "    <tr>\n",
       "      <th>96</th>\n",
       "      <td>5011-8012-8937-9155</td>\n",
       "    </tr>\n",
       "    <tr>\n",
       "      <th>97</th>\n",
       "      <td>7925-8529-1537-9423</td>\n",
       "    </tr>\n",
       "    <tr>\n",
       "      <th>98</th>\n",
       "      <td>7777-3525-4844-1671</td>\n",
       "    </tr>\n",
       "    <tr>\n",
       "      <th>99</th>\n",
       "      <td>5072-8003-8268-2776</td>\n",
       "    </tr>\n",
       "  </tbody>\n",
       "</table>\n",
       "<p>100 rows × 1 columns</p>\n",
       "</div>"
      ],
      "text/plain": [
       "                 신용카드번호\n",
       "0   6145-0051-9630-7460\n",
       "1   4049-1356-8900-1074\n",
       "2   8799-2251-3898-6319\n",
       "3   6129-1005-0066-9343\n",
       "4   2978-1148-9989-1403\n",
       "..                  ...\n",
       "95  8587-3171-9072-9820\n",
       "96  5011-8012-8937-9155\n",
       "97  7925-8529-1537-9423\n",
       "98  7777-3525-4844-1671\n",
       "99  5072-8003-8268-2776\n",
       "\n",
       "[100 rows x 1 columns]"
      ]
     },
     "execution_count": 83,
     "metadata": {},
     "output_type": "execute_result"
    }
   ],
   "source": [
    "df\n"
   ]
  },
  {
   "cell_type": "code",
   "execution_count": null,
   "metadata": {},
   "outputs": [],
   "source": []
  }
 ],
 "metadata": {
  "kernelspec": {
   "display_name": "Python 3",
   "language": "python",
   "name": "python3"
  },
  "language_info": {
   "codemirror_mode": {
    "name": "ipython",
    "version": 3
   },
   "file_extension": ".py",
   "mimetype": "text/x-python",
   "name": "python",
   "nbconvert_exporter": "python",
   "pygments_lexer": "ipython3",
   "version": "3.8.5"
  }
 },
 "nbformat": 4,
 "nbformat_minor": 4
}
